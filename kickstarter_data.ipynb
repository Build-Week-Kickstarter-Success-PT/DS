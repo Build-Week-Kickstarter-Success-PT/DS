{
 "cells": [
  {
   "cell_type": "code",
   "execution_count": 3,
   "metadata": {},
   "outputs": [],
   "source": [
    "# import libraries\n",
    "import pandas as pd\n",
    "import glob"
   ]
  },
  {
   "cell_type": "code",
   "execution_count": 51,
   "metadata": {},
   "outputs": [],
   "source": [
    "# use list comprehention and glob to create one db from many\n",
    "# works because he each db has the same columns\n",
    "df = pd.concat([pd.read_csv(x) for x in glob.glob('data/Kickstarter*.csv')], ignore_index = True)"
   ]
  },
  {
   "cell_type": "code",
   "execution_count": 5,
   "metadata": {},
   "outputs": [
    {
     "output_type": "execute_result",
     "data": {
      "text/plain": [
       "   backers_count                                              blurb  \\\n",
       "0             61  Support great art! Join us as we re-stage the ...   \n",
       "1             52  JinBucha is a new kind of Brewery in North Par...   \n",
       "2              0  \"Taste The Scent of Tea\" Rose and Blanc Tea Ro...   \n",
       "3              2  Bringing Philly cheesesteaks (and other delici...   \n",
       "4            150  a frog plushie keychain and frog butt pin for ...   \n",
       "\n",
       "                                            category  \\\n",
       "0  {\"id\":254,\"name\":\"Performances\",\"slug\":\"dance/...   \n",
       "1  {\"id\":307,\"name\":\"Drinks\",\"slug\":\"food/drinks\"...   \n",
       "2  {\"id\":307,\"name\":\"Drinks\",\"slug\":\"food/drinks\"...   \n",
       "3  {\"id\":311,\"name\":\"Food Trucks\",\"slug\":\"food/fo...   \n",
       "4  {\"id\":28,\"name\":\"Product Design\",\"slug\":\"desig...   \n",
       "\n",
       "   converted_pledged_amount country country_displayable_name  created_at  \\\n",
       "0                      4618      US        the United States  1579292017   \n",
       "1                      3461      US        the United States  1446051515   \n",
       "2                         0      US        the United States  1518159717   \n",
       "3                        25      US        the United States  1454217596   \n",
       "4                      3275      US        the United States  1571342290   \n",
       "\n",
       "                                             creator currency currency_symbol  \\\n",
       "0  {\"id\":2092817311,\"name\":\"Brooklyn Ballet\",\"slu...      USD               $   \n",
       "1  {\"id\":1468694331,\"name\":\"Jing Chen\",\"slug\":\"ji...      USD               $   \n",
       "2  {\"id\":2026565095,\"name\":\"Giovanni\",\"is_registe...      USD               $   \n",
       "3  {\"id\":1629155736,\"name\":\"Glenn Edwards\",\"is_re...      USD               $   \n",
       "4  {\"id\":932326000,\"name\":\"rainylune\",\"slug\":\"rai...      USD               $   \n",
       "\n",
       "   ...                                               slug  \\\n",
       "0  ...                              revisionist-history-2   \n",
       "1  ...  jinbucha-a-modern-kombucha-tasting-room-in-nor...   \n",
       "2  ...                   tea-room-cafe-daily-and-herb-tea   \n",
       "3  ...                help-two-brothers-open-a-food-truck   \n",
       "4  ...            son-the-frog-plushie-keychain-juicy-pin   \n",
       "\n",
       "                                          source_url  spotlight  staff_pick  \\\n",
       "0  https://www.kickstarter.com/discover/categorie...       True        True   \n",
       "1  https://www.kickstarter.com/discover/categorie...      False        True   \n",
       "2  https://www.kickstarter.com/discover/categorie...      False       False   \n",
       "3  https://www.kickstarter.com/discover/categorie...      False       False   \n",
       "4  https://www.kickstarter.com/discover/categorie...       True       False   \n",
       "\n",
       "        state  state_changed_at  static_usd_rate  \\\n",
       "0  successful        1583025192              1.0   \n",
       "1      failed        1450118057              1.0   \n",
       "2      failed        1520233260              1.0   \n",
       "3      failed        1459885844              1.0   \n",
       "4  successful        1574445600              1.0   \n",
       "\n",
       "                                                urls usd_pledged  usd_type  \n",
       "0  {\"web\":{\"project\":\"https://www.kickstarter.com...      4618.0  domestic  \n",
       "1  {\"web\":{\"project\":\"https://www.kickstarter.com...      3461.0  domestic  \n",
       "2  {\"web\":{\"project\":\"https://www.kickstarter.com...         0.0  domestic  \n",
       "3  {\"web\":{\"project\":\"https://www.kickstarter.com...        25.0  domestic  \n",
       "4  {\"web\":{\"project\":\"https://www.kickstarter.com...      3275.0  domestic  \n",
       "\n",
       "[5 rows x 38 columns]"
      ],
      "text/html": "<div>\n<style scoped>\n    .dataframe tbody tr th:only-of-type {\n        vertical-align: middle;\n    }\n\n    .dataframe tbody tr th {\n        vertical-align: top;\n    }\n\n    .dataframe thead th {\n        text-align: right;\n    }\n</style>\n<table border=\"1\" class=\"dataframe\">\n  <thead>\n    <tr style=\"text-align: right;\">\n      <th></th>\n      <th>backers_count</th>\n      <th>blurb</th>\n      <th>category</th>\n      <th>converted_pledged_amount</th>\n      <th>country</th>\n      <th>country_displayable_name</th>\n      <th>created_at</th>\n      <th>creator</th>\n      <th>currency</th>\n      <th>currency_symbol</th>\n      <th>...</th>\n      <th>slug</th>\n      <th>source_url</th>\n      <th>spotlight</th>\n      <th>staff_pick</th>\n      <th>state</th>\n      <th>state_changed_at</th>\n      <th>static_usd_rate</th>\n      <th>urls</th>\n      <th>usd_pledged</th>\n      <th>usd_type</th>\n    </tr>\n  </thead>\n  <tbody>\n    <tr>\n      <th>0</th>\n      <td>61</td>\n      <td>Support great art! Join us as we re-stage the ...</td>\n      <td>{\"id\":254,\"name\":\"Performances\",\"slug\":\"dance/...</td>\n      <td>4618</td>\n      <td>US</td>\n      <td>the United States</td>\n      <td>1579292017</td>\n      <td>{\"id\":2092817311,\"name\":\"Brooklyn Ballet\",\"slu...</td>\n      <td>USD</td>\n      <td>$</td>\n      <td>...</td>\n      <td>revisionist-history-2</td>\n      <td>https://www.kickstarter.com/discover/categorie...</td>\n      <td>True</td>\n      <td>True</td>\n      <td>successful</td>\n      <td>1583025192</td>\n      <td>1.0</td>\n      <td>{\"web\":{\"project\":\"https://www.kickstarter.com...</td>\n      <td>4618.0</td>\n      <td>domestic</td>\n    </tr>\n    <tr>\n      <th>1</th>\n      <td>52</td>\n      <td>JinBucha is a new kind of Brewery in North Par...</td>\n      <td>{\"id\":307,\"name\":\"Drinks\",\"slug\":\"food/drinks\"...</td>\n      <td>3461</td>\n      <td>US</td>\n      <td>the United States</td>\n      <td>1446051515</td>\n      <td>{\"id\":1468694331,\"name\":\"Jing Chen\",\"slug\":\"ji...</td>\n      <td>USD</td>\n      <td>$</td>\n      <td>...</td>\n      <td>jinbucha-a-modern-kombucha-tasting-room-in-nor...</td>\n      <td>https://www.kickstarter.com/discover/categorie...</td>\n      <td>False</td>\n      <td>True</td>\n      <td>failed</td>\n      <td>1450118057</td>\n      <td>1.0</td>\n      <td>{\"web\":{\"project\":\"https://www.kickstarter.com...</td>\n      <td>3461.0</td>\n      <td>domestic</td>\n    </tr>\n    <tr>\n      <th>2</th>\n      <td>0</td>\n      <td>\"Taste The Scent of Tea\" Rose and Blanc Tea Ro...</td>\n      <td>{\"id\":307,\"name\":\"Drinks\",\"slug\":\"food/drinks\"...</td>\n      <td>0</td>\n      <td>US</td>\n      <td>the United States</td>\n      <td>1518159717</td>\n      <td>{\"id\":2026565095,\"name\":\"Giovanni\",\"is_registe...</td>\n      <td>USD</td>\n      <td>$</td>\n      <td>...</td>\n      <td>tea-room-cafe-daily-and-herb-tea</td>\n      <td>https://www.kickstarter.com/discover/categorie...</td>\n      <td>False</td>\n      <td>False</td>\n      <td>failed</td>\n      <td>1520233260</td>\n      <td>1.0</td>\n      <td>{\"web\":{\"project\":\"https://www.kickstarter.com...</td>\n      <td>0.0</td>\n      <td>domestic</td>\n    </tr>\n    <tr>\n      <th>3</th>\n      <td>2</td>\n      <td>Bringing Philly cheesesteaks (and other delici...</td>\n      <td>{\"id\":311,\"name\":\"Food Trucks\",\"slug\":\"food/fo...</td>\n      <td>25</td>\n      <td>US</td>\n      <td>the United States</td>\n      <td>1454217596</td>\n      <td>{\"id\":1629155736,\"name\":\"Glenn Edwards\",\"is_re...</td>\n      <td>USD</td>\n      <td>$</td>\n      <td>...</td>\n      <td>help-two-brothers-open-a-food-truck</td>\n      <td>https://www.kickstarter.com/discover/categorie...</td>\n      <td>False</td>\n      <td>False</td>\n      <td>failed</td>\n      <td>1459885844</td>\n      <td>1.0</td>\n      <td>{\"web\":{\"project\":\"https://www.kickstarter.com...</td>\n      <td>25.0</td>\n      <td>domestic</td>\n    </tr>\n    <tr>\n      <th>4</th>\n      <td>150</td>\n      <td>a frog plushie keychain and frog butt pin for ...</td>\n      <td>{\"id\":28,\"name\":\"Product Design\",\"slug\":\"desig...</td>\n      <td>3275</td>\n      <td>US</td>\n      <td>the United States</td>\n      <td>1571342290</td>\n      <td>{\"id\":932326000,\"name\":\"rainylune\",\"slug\":\"rai...</td>\n      <td>USD</td>\n      <td>$</td>\n      <td>...</td>\n      <td>son-the-frog-plushie-keychain-juicy-pin</td>\n      <td>https://www.kickstarter.com/discover/categorie...</td>\n      <td>True</td>\n      <td>False</td>\n      <td>successful</td>\n      <td>1574445600</td>\n      <td>1.0</td>\n      <td>{\"web\":{\"project\":\"https://www.kickstarter.com...</td>\n      <td>3275.0</td>\n      <td>domestic</td>\n    </tr>\n  </tbody>\n</table>\n<p>5 rows × 38 columns</p>\n</div>"
     },
     "metadata": {},
     "execution_count": 5
    }
   ],
   "source": [
    "df.head()"
   ]
  },
  {
   "cell_type": "code",
   "execution_count": 6,
   "metadata": {},
   "outputs": [
    {
     "output_type": "execute_result",
     "data": {
      "text/plain": [
       "Index(['backers_count', 'blurb', 'category', 'converted_pledged_amount',\n",
       "       'country', 'country_displayable_name', 'created_at', 'creator',\n",
       "       'currency', 'currency_symbol', 'currency_trailing_code',\n",
       "       'current_currency', 'deadline', 'disable_communication', 'friends',\n",
       "       'fx_rate', 'goal', 'id', 'is_backing', 'is_starrable', 'is_starred',\n",
       "       'launched_at', 'location', 'name', 'permissions', 'photo', 'pledged',\n",
       "       'profile', 'slug', 'source_url', 'spotlight', 'staff_pick', 'state',\n",
       "       'state_changed_at', 'static_usd_rate', 'urls', 'usd_pledged',\n",
       "       'usd_type'],\n",
       "      dtype='object')"
      ]
     },
     "metadata": {},
     "execution_count": 6
    }
   ],
   "source": [
    "df.columns"
   ]
  },
  {
   "cell_type": "code",
   "execution_count": 7,
   "metadata": {
    "tags": []
   },
   "outputs": [
    {
     "output_type": "stream",
     "name": "stdout",
     "text": [
      "<class 'pandas.core.frame.DataFrame'>\nRangeIndex: 219688 entries, 0 to 219687\nData columns (total 38 columns):\n #   Column                    Non-Null Count   Dtype  \n---  ------                    --------------   -----  \n 0   backers_count             219688 non-null  int64  \n 1   blurb                     219680 non-null  object \n 2   category                  219688 non-null  object \n 3   converted_pledged_amount  219688 non-null  int64  \n 4   country                   219688 non-null  object \n 5   country_displayable_name  219688 non-null  object \n 6   created_at                219688 non-null  int64  \n 7   creator                   219688 non-null  object \n 8   currency                  219688 non-null  object \n 9   currency_symbol           219688 non-null  object \n 10  currency_trailing_code    219688 non-null  bool   \n 11  current_currency          219688 non-null  object \n 12  deadline                  219688 non-null  int64  \n 13  disable_communication     219688 non-null  bool   \n 14  friends                   192 non-null     object \n 15  fx_rate                   219688 non-null  float64\n 16  goal                      219688 non-null  float64\n 17  id                        219688 non-null  int64  \n 18  is_backing                192 non-null     object \n 19  is_starrable              219688 non-null  bool   \n 20  is_starred                192 non-null     object \n 21  launched_at               219688 non-null  int64  \n 22  location                  219473 non-null  object \n 23  name                      219688 non-null  object \n 24  permissions               192 non-null     object \n 25  photo                     219688 non-null  object \n 26  pledged                   219688 non-null  float64\n 27  profile                   219688 non-null  object \n 28  slug                      219688 non-null  object \n 29  source_url                219688 non-null  object \n 30  spotlight                 219688 non-null  bool   \n 31  staff_pick                219688 non-null  bool   \n 32  state                     219688 non-null  object \n 33  state_changed_at          219688 non-null  int64  \n 34  static_usd_rate           219688 non-null  float64\n 35  urls                      219688 non-null  object \n 36  usd_pledged               219688 non-null  float64\n 37  usd_type                  219340 non-null  object \ndtypes: bool(5), float64(5), int64(7), object(21)\nmemory usage: 56.4+ MB\n"
     ]
    }
   ],
   "source": [
    "df.info()"
   ]
  },
  {
   "cell_type": "code",
   "execution_count": 8,
   "metadata": {
    "tags": []
   },
   "outputs": [
    {
     "output_type": "stream",
     "name": "stdout",
     "text": [
      "There are 27669 listed more than once.\n"
     ]
    }
   ],
   "source": [
    "# check for duplicates of individual projects\n",
    "dup_id = len(df[df.duplicated(subset='id')])\n",
    "print(f\"There are {dup_id} listed more than once.\")"
   ]
  },
  {
   "cell_type": "code",
   "execution_count": 9,
   "metadata": {},
   "outputs": [],
   "source": [
    "# could get rid of the mostly null columns\n",
    "mostly_null = ['friends', 'is_backing', 'is_starred', 'permissions']\n"
   ]
  },
  {
   "cell_type": "code",
   "execution_count": 10,
   "metadata": {},
   "outputs": [
    {
     "output_type": "stream",
     "name": "stdout",
     "text": [
      "<class 'pandas.core.frame.DataFrame'>\nInt64Index: 55336 entries, 0 to 219672\nData columns (total 38 columns):\n #   Column                    Non-Null Count  Dtype  \n---  ------                    --------------  -----  \n 0   backers_count             55336 non-null  int64  \n 1   blurb                     55336 non-null  object \n 2   category                  55336 non-null  object \n 3   converted_pledged_amount  55336 non-null  int64  \n 4   country                   55336 non-null  object \n 5   country_displayable_name  55336 non-null  object \n 6   created_at                55336 non-null  int64  \n 7   creator                   55336 non-null  object \n 8   currency                  55336 non-null  object \n 9   currency_symbol           55336 non-null  object \n 10  currency_trailing_code    55336 non-null  bool   \n 11  current_currency          55336 non-null  object \n 12  deadline                  55336 non-null  int64  \n 13  disable_communication     55336 non-null  bool   \n 14  friends                   186 non-null    object \n 15  fx_rate                   55336 non-null  float64\n 16  goal                      55336 non-null  float64\n 17  id                        55336 non-null  int64  \n 18  is_backing                186 non-null    object \n 19  is_starrable              55336 non-null  bool   \n 20  is_starred                186 non-null    object \n 21  launched_at               55336 non-null  int64  \n 22  location                  55332 non-null  object \n 23  name                      55336 non-null  object \n 24  permissions               186 non-null    object \n 25  photo                     55336 non-null  object \n 26  pledged                   55336 non-null  float64\n 27  profile                   55336 non-null  object \n 28  slug                      55336 non-null  object \n 29  source_url                55336 non-null  object \n 30  spotlight                 55336 non-null  bool   \n 31  staff_pick                55336 non-null  bool   \n 32  state                     55336 non-null  object \n 33  state_changed_at          55336 non-null  int64  \n 34  static_usd_rate           55336 non-null  float64\n 35  urls                      55336 non-null  object \n 36  usd_pledged               55336 non-null  float64\n 37  usd_type                  55023 non-null  object \ndtypes: bool(5), float64(5), int64(7), object(21)\nmemory usage: 14.6+ MB\n"
     ]
    }
   ],
   "source": [
    "df_dup_rows = df[df.duplicated(subset='id', keep=False)]\n",
    "df_dup_rows.info()"
   ]
  },
  {
   "cell_type": "code",
   "execution_count": 11,
   "metadata": {},
   "outputs": [
    {
     "output_type": "stream",
     "name": "stdout",
     "text": [
      "There are 55336 rows containing duplicates.\nThat is an average of 2.00 copies per duplicated item.\n"
     ]
    }
   ],
   "source": [
    "# discover how many rows contain duplicates\n",
    "dup_rows = len(df_dup_rows)\n",
    "print(f\"There are {dup_rows} rows containing duplicates.\")\n",
    "print(f\"That is an average of {(dup_rows/dup_id):.2f} copies per duplicated item.\")"
   ]
  },
  {
   "cell_type": "code",
   "execution_count": 12,
   "metadata": {},
   "outputs": [
    {
     "output_type": "execute_result",
     "data": {
      "text/plain": [
       "171"
      ]
     },
     "metadata": {},
     "execution_count": 12
    }
   ],
   "source": [
    "# check for number of unique 'category' items\n",
    "# I suggest splitting 'category' into component columns - SW\n",
    "df['category'].nunique()"
   ]
  },
  {
   "cell_type": "code",
   "execution_count": 13,
   "metadata": {},
   "outputs": [
    {
     "output_type": "stream",
     "name": "stdout",
     "text": [
      "successful    128156\nfailed         76137\ncanceled        9138\nlive            6257\nName: state, dtype: int64\n---------------------------------------------\n"
     ]
    }
   ],
   "source": [
    "# check state values\n",
    "# combine canceled to failed?  & drop live?\n",
    "# make booklean\n",
    "print(df['state'].value_counts())\n",
    "print(\"---\"*15)"
   ]
  },
  {
   "cell_type": "code",
   "execution_count": 14,
   "metadata": {},
   "outputs": [
    {
     "output_type": "stream",
     "name": "stdout",
     "text": [
      "False    213465\nTrue       6223\nName: is_starrable, dtype: int64\n---------------------------------------------\n\nsuccessful    128156\nfailed         76137\ncanceled        9138\nlive            6257\nName: state, dtype: int64\n---------------------------------------------\nThere are 6223 rows are both classified as \"live\" and \"is_starrable\".\nTherefore a campaign must be live to be strarrable.\n"
     ]
    }
   ],
   "source": [
    "# verify that 'is_starrable' largely associated with live campaigns\n",
    "print(df['is_starrable'].value_counts())\n",
    "print(\"---\"*15)\n",
    "print('')\n",
    "print(df['state'].value_counts())\n",
    "print(\"---\"*15)\n",
    "\n",
    "live_starrable = len(df.loc[(df['state'].isin(['live'])) & (df['is_starrable'])])\n",
    "\n",
    "print(f'There are {live_starrable} rows are both classified as \"live\" and \"is_starrable\".')\n",
    "print('Therefore a campaign must be live to be strarrable.')"
   ]
  },
  {
   "cell_type": "code",
   "execution_count": 16,
   "metadata": {},
   "outputs": [],
   "source": [
    "# future data columns\n",
    "'''\n",
    "'spotlight' only applies to successfully funded projects,\n",
    "'is_starrable' is only true with live campaigns,\n",
    "'''\n",
    "\n",
    "future_data = ['spotlight','is_starrable', 'staff_pick', 'backers_count', 'pledged', 'converted_pledged']\n"
   ]
  },
  {
   "cell_type": "code",
   "execution_count": 17,
   "metadata": {},
   "outputs": [
    {
     "output_type": "stream",
     "name": "stdout",
     "text": [
      "False    219688\n",
      "Name: disable_communication, dtype: int64\n",
      "---------------------------------------------\n",
      "\n",
      "There are 669 listed more than once.\n"
     ]
    }
   ],
   "source": [
    "# extraneous columns\n",
    "\n",
    "print(df['disable_communication'].value_counts())\n",
    "print(\"---\"*15)\n",
    "print('')\n",
    "\n",
    "# check for duplicate creators\n",
    "print(f\"There are {len(df[df.duplicated(subset='creator')])} listed more than once.\")\n",
    "\n",
    "'''\n",
    "'disable communications' only contains the value 'false',\n",
    "'fx_rate' is the foriegn exchange rate,\n",
    "'country_displayable_name' duplicate information,\n",
    "'creator', is high cardinality\n",
    "\n",
    "'''\n",
    "extra_columns = ['disable_communication','fx_rate', 'country_displayed_name', 'creator']"
   ]
  },
  {
   "cell_type": "code",
   "execution_count": null,
   "metadata": {},
   "outputs": [],
   "source": [
    "# more extraneous columns to be removed\n",
    "\n",
    "extras = ['photo', 'profile','urls', 'usd_pledged', 'state_changed_at', 'source_url']"
   ]
  },
  {
   "cell_type": "code",
   "execution_count": 57,
   "metadata": {},
   "outputs": [],
   "source": [
    "df1=df.copy()"
   ]
  },
  {
   "cell_type": "code",
   "execution_count": 43,
   "metadata": {},
   "outputs": [
    {
     "output_type": "execute_result",
     "data": {
      "text/plain": [
       "    id            name                   slug  position  parent_id  \\\n",
       "0  254    Performances     dance/performances         1        6.0   \n",
       "1  307          Drinks            food/drinks         4       10.0   \n",
       "2  307          Drinks            food/drinks         4       10.0   \n",
       "3  311     Food Trucks       food/food trucks         8       10.0   \n",
       "4   28  Product Design  design/product design         5        7.0   \n",
       "\n",
       "  parent_name     color                                               urls  \n",
       "0       Dance  10917369  {'web': {'discover': 'http://www.kickstarter.c...  \n",
       "1        Food  16725570  {'web': {'discover': 'http://www.kickstarter.c...  \n",
       "2        Food  16725570  {'web': {'discover': 'http://www.kickstarter.c...  \n",
       "3        Food  16725570  {'web': {'discover': 'http://www.kickstarter.c...  \n",
       "4      Design   2577151  {'web': {'discover': 'http://www.kickstarter.c...  "
      ],
      "text/html": "<div>\n<style scoped>\n    .dataframe tbody tr th:only-of-type {\n        vertical-align: middle;\n    }\n\n    .dataframe tbody tr th {\n        vertical-align: top;\n    }\n\n    .dataframe thead th {\n        text-align: right;\n    }\n</style>\n<table border=\"1\" class=\"dataframe\">\n  <thead>\n    <tr style=\"text-align: right;\">\n      <th></th>\n      <th>id</th>\n      <th>name</th>\n      <th>slug</th>\n      <th>position</th>\n      <th>parent_id</th>\n      <th>parent_name</th>\n      <th>color</th>\n      <th>urls</th>\n    </tr>\n  </thead>\n  <tbody>\n    <tr>\n      <th>0</th>\n      <td>254</td>\n      <td>Performances</td>\n      <td>dance/performances</td>\n      <td>1</td>\n      <td>6.0</td>\n      <td>Dance</td>\n      <td>10917369</td>\n      <td>{'web': {'discover': 'http://www.kickstarter.c...</td>\n    </tr>\n    <tr>\n      <th>1</th>\n      <td>307</td>\n      <td>Drinks</td>\n      <td>food/drinks</td>\n      <td>4</td>\n      <td>10.0</td>\n      <td>Food</td>\n      <td>16725570</td>\n      <td>{'web': {'discover': 'http://www.kickstarter.c...</td>\n    </tr>\n    <tr>\n      <th>2</th>\n      <td>307</td>\n      <td>Drinks</td>\n      <td>food/drinks</td>\n      <td>4</td>\n      <td>10.0</td>\n      <td>Food</td>\n      <td>16725570</td>\n      <td>{'web': {'discover': 'http://www.kickstarter.c...</td>\n    </tr>\n    <tr>\n      <th>3</th>\n      <td>311</td>\n      <td>Food Trucks</td>\n      <td>food/food trucks</td>\n      <td>8</td>\n      <td>10.0</td>\n      <td>Food</td>\n      <td>16725570</td>\n      <td>{'web': {'discover': 'http://www.kickstarter.c...</td>\n    </tr>\n    <tr>\n      <th>4</th>\n      <td>28</td>\n      <td>Product Design</td>\n      <td>design/product design</td>\n      <td>5</td>\n      <td>7.0</td>\n      <td>Design</td>\n      <td>2577151</td>\n      <td>{'web': {'discover': 'http://www.kickstarter.c...</td>\n    </tr>\n  </tbody>\n</table>\n</div>"
     },
     "metadata": {},
     "execution_count": 43
    }
   ],
   "source": [
    "# split category into several columns\n",
    "# must include map(eval)\n",
    "df2 = df['category'].map(eval).apply(pd.Series)\n",
    "df2.head()"
   ]
  },
  {
   "cell_type": "code",
   "execution_count": 58,
   "metadata": {},
   "outputs": [
    {
     "output_type": "execute_result",
     "data": {
      "text/plain": [
       "   backers_count                                              blurb  \\\n",
       "0             61  Support great art! Join us as we re-stage the ...   \n",
       "1             52  JinBucha is a new kind of Brewery in North Par...   \n",
       "2              0  \"Taste The Scent of Tea\" Rose and Blanc Tea Ro...   \n",
       "3              2  Bringing Philly cheesesteaks (and other delici...   \n",
       "4            150  a frog plushie keychain and frog butt pin for ...   \n",
       "\n",
       "                                            category  \\\n",
       "0  {\"id\":254,\"name\":\"Performances\",\"slug\":\"dance/...   \n",
       "1  {\"id\":307,\"name\":\"Drinks\",\"slug\":\"food/drinks\"...   \n",
       "2  {\"id\":307,\"name\":\"Drinks\",\"slug\":\"food/drinks\"...   \n",
       "3  {\"id\":311,\"name\":\"Food Trucks\",\"slug\":\"food/fo...   \n",
       "4  {\"id\":28,\"name\":\"Product Design\",\"slug\":\"desig...   \n",
       "\n",
       "   converted_pledged_amount country country_displayable_name  created_at  \\\n",
       "0                      4618      US        the United States  1579292017   \n",
       "1                      3461      US        the United States  1446051515   \n",
       "2                         0      US        the United States  1518159717   \n",
       "3                        25      US        the United States  1454217596   \n",
       "4                      3275      US        the United States  1571342290   \n",
       "\n",
       "                                             creator currency currency_symbol  \\\n",
       "0  {\"id\":2092817311,\"name\":\"Brooklyn Ballet\",\"slu...      USD               $   \n",
       "1  {\"id\":1468694331,\"name\":\"Jing Chen\",\"slug\":\"ji...      USD               $   \n",
       "2  {\"id\":2026565095,\"name\":\"Giovanni\",\"is_registe...      USD               $   \n",
       "3  {\"id\":1629155736,\"name\":\"Glenn Edwards\",\"is_re...      USD               $   \n",
       "4  {\"id\":932326000,\"name\":\"rainylune\",\"slug\":\"rai...      USD               $   \n",
       "\n",
       "   ...                                               slug  \\\n",
       "0  ...                              revisionist-history-2   \n",
       "1  ...  jinbucha-a-modern-kombucha-tasting-room-in-nor...   \n",
       "2  ...                   tea-room-cafe-daily-and-herb-tea   \n",
       "3  ...                help-two-brothers-open-a-food-truck   \n",
       "4  ...            son-the-frog-plushie-keychain-juicy-pin   \n",
       "\n",
       "                                          source_url  spotlight  staff_pick  \\\n",
       "0  https://www.kickstarter.com/discover/categorie...       True        True   \n",
       "1  https://www.kickstarter.com/discover/categorie...      False        True   \n",
       "2  https://www.kickstarter.com/discover/categorie...      False       False   \n",
       "3  https://www.kickstarter.com/discover/categorie...      False       False   \n",
       "4  https://www.kickstarter.com/discover/categorie...       True       False   \n",
       "\n",
       "        state  state_changed_at  static_usd_rate  \\\n",
       "0  successful        1583025192              1.0   \n",
       "1      failed        1450118057              1.0   \n",
       "2      failed        1520233260              1.0   \n",
       "3      failed        1459885844              1.0   \n",
       "4  successful        1574445600              1.0   \n",
       "\n",
       "                                                urls usd_pledged  usd_type  \n",
       "0  {\"web\":{\"project\":\"https://www.kickstarter.com...      4618.0  domestic  \n",
       "1  {\"web\":{\"project\":\"https://www.kickstarter.com...      3461.0  domestic  \n",
       "2  {\"web\":{\"project\":\"https://www.kickstarter.com...         0.0  domestic  \n",
       "3  {\"web\":{\"project\":\"https://www.kickstarter.com...        25.0  domestic  \n",
       "4  {\"web\":{\"project\":\"https://www.kickstarter.com...      3275.0  domestic  \n",
       "\n",
       "[5 rows x 38 columns]"
      ],
      "text/html": "<div>\n<style scoped>\n    .dataframe tbody tr th:only-of-type {\n        vertical-align: middle;\n    }\n\n    .dataframe tbody tr th {\n        vertical-align: top;\n    }\n\n    .dataframe thead th {\n        text-align: right;\n    }\n</style>\n<table border=\"1\" class=\"dataframe\">\n  <thead>\n    <tr style=\"text-align: right;\">\n      <th></th>\n      <th>backers_count</th>\n      <th>blurb</th>\n      <th>category</th>\n      <th>converted_pledged_amount</th>\n      <th>country</th>\n      <th>country_displayable_name</th>\n      <th>created_at</th>\n      <th>creator</th>\n      <th>currency</th>\n      <th>currency_symbol</th>\n      <th>...</th>\n      <th>slug</th>\n      <th>source_url</th>\n      <th>spotlight</th>\n      <th>staff_pick</th>\n      <th>state</th>\n      <th>state_changed_at</th>\n      <th>static_usd_rate</th>\n      <th>urls</th>\n      <th>usd_pledged</th>\n      <th>usd_type</th>\n    </tr>\n  </thead>\n  <tbody>\n    <tr>\n      <th>0</th>\n      <td>61</td>\n      <td>Support great art! Join us as we re-stage the ...</td>\n      <td>{\"id\":254,\"name\":\"Performances\",\"slug\":\"dance/...</td>\n      <td>4618</td>\n      <td>US</td>\n      <td>the United States</td>\n      <td>1579292017</td>\n      <td>{\"id\":2092817311,\"name\":\"Brooklyn Ballet\",\"slu...</td>\n      <td>USD</td>\n      <td>$</td>\n      <td>...</td>\n      <td>revisionist-history-2</td>\n      <td>https://www.kickstarter.com/discover/categorie...</td>\n      <td>True</td>\n      <td>True</td>\n      <td>successful</td>\n      <td>1583025192</td>\n      <td>1.0</td>\n      <td>{\"web\":{\"project\":\"https://www.kickstarter.com...</td>\n      <td>4618.0</td>\n      <td>domestic</td>\n    </tr>\n    <tr>\n      <th>1</th>\n      <td>52</td>\n      <td>JinBucha is a new kind of Brewery in North Par...</td>\n      <td>{\"id\":307,\"name\":\"Drinks\",\"slug\":\"food/drinks\"...</td>\n      <td>3461</td>\n      <td>US</td>\n      <td>the United States</td>\n      <td>1446051515</td>\n      <td>{\"id\":1468694331,\"name\":\"Jing Chen\",\"slug\":\"ji...</td>\n      <td>USD</td>\n      <td>$</td>\n      <td>...</td>\n      <td>jinbucha-a-modern-kombucha-tasting-room-in-nor...</td>\n      <td>https://www.kickstarter.com/discover/categorie...</td>\n      <td>False</td>\n      <td>True</td>\n      <td>failed</td>\n      <td>1450118057</td>\n      <td>1.0</td>\n      <td>{\"web\":{\"project\":\"https://www.kickstarter.com...</td>\n      <td>3461.0</td>\n      <td>domestic</td>\n    </tr>\n    <tr>\n      <th>2</th>\n      <td>0</td>\n      <td>\"Taste The Scent of Tea\" Rose and Blanc Tea Ro...</td>\n      <td>{\"id\":307,\"name\":\"Drinks\",\"slug\":\"food/drinks\"...</td>\n      <td>0</td>\n      <td>US</td>\n      <td>the United States</td>\n      <td>1518159717</td>\n      <td>{\"id\":2026565095,\"name\":\"Giovanni\",\"is_registe...</td>\n      <td>USD</td>\n      <td>$</td>\n      <td>...</td>\n      <td>tea-room-cafe-daily-and-herb-tea</td>\n      <td>https://www.kickstarter.com/discover/categorie...</td>\n      <td>False</td>\n      <td>False</td>\n      <td>failed</td>\n      <td>1520233260</td>\n      <td>1.0</td>\n      <td>{\"web\":{\"project\":\"https://www.kickstarter.com...</td>\n      <td>0.0</td>\n      <td>domestic</td>\n    </tr>\n    <tr>\n      <th>3</th>\n      <td>2</td>\n      <td>Bringing Philly cheesesteaks (and other delici...</td>\n      <td>{\"id\":311,\"name\":\"Food Trucks\",\"slug\":\"food/fo...</td>\n      <td>25</td>\n      <td>US</td>\n      <td>the United States</td>\n      <td>1454217596</td>\n      <td>{\"id\":1629155736,\"name\":\"Glenn Edwards\",\"is_re...</td>\n      <td>USD</td>\n      <td>$</td>\n      <td>...</td>\n      <td>help-two-brothers-open-a-food-truck</td>\n      <td>https://www.kickstarter.com/discover/categorie...</td>\n      <td>False</td>\n      <td>False</td>\n      <td>failed</td>\n      <td>1459885844</td>\n      <td>1.0</td>\n      <td>{\"web\":{\"project\":\"https://www.kickstarter.com...</td>\n      <td>25.0</td>\n      <td>domestic</td>\n    </tr>\n    <tr>\n      <th>4</th>\n      <td>150</td>\n      <td>a frog plushie keychain and frog butt pin for ...</td>\n      <td>{\"id\":28,\"name\":\"Product Design\",\"slug\":\"desig...</td>\n      <td>3275</td>\n      <td>US</td>\n      <td>the United States</td>\n      <td>1571342290</td>\n      <td>{\"id\":932326000,\"name\":\"rainylune\",\"slug\":\"rai...</td>\n      <td>USD</td>\n      <td>$</td>\n      <td>...</td>\n      <td>son-the-frog-plushie-keychain-juicy-pin</td>\n      <td>https://www.kickstarter.com/discover/categorie...</td>\n      <td>True</td>\n      <td>False</td>\n      <td>successful</td>\n      <td>1574445600</td>\n      <td>1.0</td>\n      <td>{\"web\":{\"project\":\"https://www.kickstarter.com...</td>\n      <td>3275.0</td>\n      <td>domestic</td>\n    </tr>\n  </tbody>\n</table>\n<p>5 rows × 38 columns</p>\n</div>"
     },
     "metadata": {},
     "execution_count": 58
    }
   ],
   "source": [
    "#Attempt to drop category column and add splits in one step - failed\n",
    "# \n",
    "# pd.concat([df1.drop(['category'], axis=1), (df1['category'].map(eval).apply(pd.Series))], axis=1)\n",
    "# df1.head()\n"
   ]
  },
  {
   "cell_type": "code",
   "execution_count": 44,
   "metadata": {},
   "outputs": [
    {
     "output_type": "execute_result",
     "data": {
      "text/plain": [
       "             name parent_name\n",
       "0    Performances       Dance\n",
       "1          Drinks        Food\n",
       "2          Drinks        Food\n",
       "3     Food Trucks        Food\n",
       "4  Product Design      Design"
      ],
      "text/html": "<div>\n<style scoped>\n    .dataframe tbody tr th:only-of-type {\n        vertical-align: middle;\n    }\n\n    .dataframe tbody tr th {\n        vertical-align: top;\n    }\n\n    .dataframe thead th {\n        text-align: right;\n    }\n</style>\n<table border=\"1\" class=\"dataframe\">\n  <thead>\n    <tr style=\"text-align: right;\">\n      <th></th>\n      <th>name</th>\n      <th>parent_name</th>\n    </tr>\n  </thead>\n  <tbody>\n    <tr>\n      <th>0</th>\n      <td>Performances</td>\n      <td>Dance</td>\n    </tr>\n    <tr>\n      <th>1</th>\n      <td>Drinks</td>\n      <td>Food</td>\n    </tr>\n    <tr>\n      <th>2</th>\n      <td>Drinks</td>\n      <td>Food</td>\n    </tr>\n    <tr>\n      <th>3</th>\n      <td>Food Trucks</td>\n      <td>Food</td>\n    </tr>\n    <tr>\n      <th>4</th>\n      <td>Product Design</td>\n      <td>Design</td>\n    </tr>\n  </tbody>\n</table>\n</div>"
     },
     "metadata": {},
     "execution_count": 44
    }
   ],
   "source": [
    "#drop extraneous category columns\n",
    "df2=df2.drop(['id', 'slug', 'position','parent_id','color','urls'], axis=1)\n",
    "df2.head()"
   ]
  },
  {
   "cell_type": "code",
   "execution_count": 60,
   "metadata": {},
   "outputs": [
    {
     "output_type": "stream",
     "name": "stdout",
     "text": [
      "<class 'pandas.core.frame.DataFrame'>\nRangeIndex: 219688 entries, 0 to 219687\nData columns (total 2 columns):\n #   Column       Non-Null Count   Dtype \n---  ------       --------------   ----- \n 0   name         219688 non-null  object\n 1   parent_name  211388 non-null  object\ndtypes: object(2)\nmemory usage: 3.4+ MB\n"
     ]
    }
   ],
   "source": [
    "# the main 15 categories are listed in 'parent_name'\n",
    "# perhaps the earliest projects only had 'name'?\n",
    "# 'slug' includes both pieces of info\n",
    "df2.info()"
   ]
  },
  {
   "cell_type": "code",
   "execution_count": null,
   "metadata": {},
   "outputs": [],
   "source": []
  }
 ],
 "metadata": {
  "language_info": {
   "codemirror_mode": {
    "name": "ipython",
    "version": 3
   },
   "file_extension": ".py",
   "mimetype": "text/x-python",
   "name": "python",
   "nbconvert_exporter": "python",
   "pygments_lexer": "ipython3",
   "version": "3.8.3-final"
  },
  "orig_nbformat": 2,
  "kernelspec": {
   "name": "Python 3.8.3 64-bit ('base': conda)",
   "display_name": "Python 3.8.3 64-bit ('base': conda)",
   "metadata": {
    "interpreter": {
     "hash": "1f69aa6a908dd77077108171b4c7abb4f45edb75f60153210175f5eb17d2a8fa"
    }
   }
  }
 },
 "nbformat": 4,
 "nbformat_minor": 2
}