{
 "cells": [
  {
   "cell_type": "code",
   "execution_count": 4,
   "metadata": {},
   "outputs": [],
   "source": [
    "# use list comprehention and glob to create one db from many\n",
    "# works because he each db has the same columns\n",
    "# df = pd.concat([pd.read_csv(x) for x in glob.glob('data/Kickstarter*.csv')], ignore_index = True)\n",
    "# found a better way using url\n",
    "url = 'https://raw.githubusercontent.com/SaraWestWA/DS-Unit-3-Sprint-2-SQL-and-Databases/master/clean_kickstart_data.csv'\n",
    "df1 = pd.read_csv(url)"
   ]
  },
  {
   "cell_type": "code",
   "execution_count": 5,
   "metadata": {},
   "outputs": [
    {
     "output_type": "execute_result",
     "data": {
      "text/plain": "  country    deadline     goal          id  launched_at  \\\n0      US  1583025192   3000.0  1568973024   1580433192   \n1      US  1450118057  20000.0  1782378629   1447526057   \n\n                                                name  success category  \\\n0                              Revisionist History 2        1    Dance   \n1  JinBucha: A Modern Kombucha tasting room in No...        0     Food   \n\n    subcategory  campaign_length  \n0  Performances             30.0  \n1        Drinks             30.0  ",
      "text/html": "<div>\n<style scoped>\n    .dataframe tbody tr th:only-of-type {\n        vertical-align: middle;\n    }\n\n    .dataframe tbody tr th {\n        vertical-align: top;\n    }\n\n    .dataframe thead th {\n        text-align: right;\n    }\n</style>\n<table border=\"1\" class=\"dataframe\">\n  <thead>\n    <tr style=\"text-align: right;\">\n      <th></th>\n      <th>country</th>\n      <th>deadline</th>\n      <th>goal</th>\n      <th>id</th>\n      <th>launched_at</th>\n      <th>name</th>\n      <th>success</th>\n      <th>category</th>\n      <th>subcategory</th>\n      <th>campaign_length</th>\n    </tr>\n  </thead>\n  <tbody>\n    <tr>\n      <th>0</th>\n      <td>US</td>\n      <td>1583025192</td>\n      <td>3000.0</td>\n      <td>1568973024</td>\n      <td>1580433192</td>\n      <td>Revisionist History 2</td>\n      <td>1</td>\n      <td>Dance</td>\n      <td>Performances</td>\n      <td>30.0</td>\n    </tr>\n    <tr>\n      <th>1</th>\n      <td>US</td>\n      <td>1450118057</td>\n      <td>20000.0</td>\n      <td>1782378629</td>\n      <td>1447526057</td>\n      <td>JinBucha: A Modern Kombucha tasting room in No...</td>\n      <td>0</td>\n      <td>Food</td>\n      <td>Drinks</td>\n      <td>30.0</td>\n    </tr>\n  </tbody>\n</table>\n</div>"
     },
     "metadata": {},
     "execution_count": 5
    }
   ],
   "source": [
    "df1.head(2)"
   ]
  },
  {
   "cell_type": "code",
   "execution_count": 6,
   "metadata": {},
   "outputs": [
    {
     "output_type": "execute_result",
     "data": {
      "text/plain": "Index(['country', 'deadline', 'goal', 'id', 'launched_at', 'name', 'success',\n       'category', 'subcategory', 'campaign_length'],\n      dtype='object')"
     },
     "metadata": {},
     "execution_count": 6
    }
   ],
   "source": [
    "df1.columns"
   ]
  },
  {
   "cell_type": "code",
   "execution_count": 7,
   "metadata": {
    "tags": []
   },
   "outputs": [
    {
     "output_type": "stream",
     "name": "stdout",
     "text": "<class 'pandas.core.frame.DataFrame'>\nRangeIndex: 179467 entries, 0 to 179466\nData columns (total 10 columns):\n #   Column           Non-Null Count   Dtype  \n---  ------           --------------   -----  \n 0   country          179467 non-null  object \n 1   deadline         179467 non-null  int64  \n 2   goal             179467 non-null  float64\n 3   id               179467 non-null  int64  \n 4   launched_at      179467 non-null  int64  \n 5   name             179467 non-null  object \n 6   success          179467 non-null  int64  \n 7   category         179467 non-null  object \n 8   subcategory      179467 non-null  object \n 9   campaign_length  179467 non-null  float64\ndtypes: float64(2), int64(4), object(4)\nmemory usage: 13.7+ MB\n"
    }
   ],
   "source": [
    "df1.info()"
   ]
  },
  {
   "cell_type": "code",
   "execution_count": 8,
   "metadata": {
    "tags": []
   },
   "outputs": [
    {
     "output_type": "stream",
     "name": "stdout",
     "text": "There are 0 ids listed more than once.\n"
    }
   ],
   "source": [
    "# check for duplicates of individual projects\n",
    "dup_id = len(df[df.duplicated(subset='id')])\n",
    "print(f\"There are {dup_id} ids listed more than once.\")"
   ]
  },
  {
   "cell_type": "code",
   "execution_count": 9,
   "metadata": {},
   "outputs": [
    {
     "output_type": "error",
     "ename": "NameError",
     "evalue": "name 'df1' is not defined",
     "traceback": [
      "\u001b[0;31m---------------------------------------------------------------------------\u001b[0m",
      "\u001b[0;31mNameError\u001b[0m                                 Traceback (most recent call last)",
      "\u001b[0;32m<ipython-input-9-59e9866679f5>\u001b[0m in \u001b[0;36m<module>\u001b[0;34m\u001b[0m\n\u001b[1;32m      3\u001b[0m \u001b[0mcutoff2\u001b[0m \u001b[0;34m=\u001b[0m \u001b[0;36m1530120000\u001b[0m\u001b[0;34m\u001b[0m\u001b[0;34m\u001b[0m\u001b[0m\n\u001b[1;32m      4\u001b[0m \u001b[0;34m\u001b[0m\u001b[0m\n\u001b[0;32m----> 5\u001b[0;31m \u001b[0mtest1\u001b[0m \u001b[0;34m=\u001b[0m \u001b[0mdf1\u001b[0m\u001b[0;34m[\u001b[0m\u001b[0mdf1\u001b[0m\u001b[0;34m[\u001b[0m\u001b[0;34m'launched_at'\u001b[0m\u001b[0;34m]\u001b[0m\u001b[0;34m>=\u001b[0m\u001b[0mcutoff2\u001b[0m\u001b[0;34m]\u001b[0m\u001b[0;34m\u001b[0m\u001b[0;34m\u001b[0m\u001b[0m\n\u001b[0m\u001b[1;32m      6\u001b[0m \u001b[0mtrain1\u001b[0m \u001b[0;34m=\u001b[0m \u001b[0mdf1\u001b[0m\u001b[0;34m[\u001b[0m\u001b[0mdf1\u001b[0m\u001b[0;34m[\u001b[0m\u001b[0;34m'launched_at'\u001b[0m\u001b[0;34m]\u001b[0m\u001b[0;34m<\u001b[0m\u001b[0mcutoff2\u001b[0m\u001b[0;34m]\u001b[0m\u001b[0;34m\u001b[0m\u001b[0;34m\u001b[0m\u001b[0m\n\u001b[1;32m      7\u001b[0m \u001b[0mval1\u001b[0m \u001b[0;34m=\u001b[0m \u001b[0mtrain1\u001b[0m\u001b[0;34m[\u001b[0m\u001b[0mtrain1\u001b[0m\u001b[0;34m[\u001b[0m\u001b[0;34m'launched_at'\u001b[0m\u001b[0;34m]\u001b[0m\u001b[0;34m>\u001b[0m\u001b[0mcutoff1\u001b[0m\u001b[0;34m]\u001b[0m\u001b[0;34m\u001b[0m\u001b[0;34m\u001b[0m\u001b[0m\n",
      "\u001b[0;31mNameError\u001b[0m: name 'df1' is not defined"
     ]
    }
   ],
   "source": [
    "# Choose cutoffs based on unix time\n",
    "cutoff1 = 1466003000\n",
    "cutoff2 = 1530120000\n",
    "\n",
    "test1 = df1[df1['launched_at']>=cutoff2]\n",
    "train1 = df1[df1['launched_at']<cutoff2]\n",
    "val1 = train1[train1['launched_at']>cutoff1] \n",
    "train1 = train1[train1['launched_at']<=cutoff1]\n",
    "\n",
    "\n",
    "print(train1.shape)\n",
    "print(val1.shape)\n",
    "print(test1.shape)"
   ]
  },
  {
   "cell_type": "code",
   "execution_count": null,
   "metadata": {},
   "outputs": [],
   "source": []
  }
 ],
 "metadata": {
  "language_info": {
   "codemirror_mode": {
    "name": "ipython",
    "version": 3
   },
   "file_extension": ".py",
   "mimetype": "text/x-python",
   "name": "python",
   "nbconvert_exporter": "python",
   "pygments_lexer": "ipython3",
   "version": "3.8.3-final"
  },
  "orig_nbformat": 2,
  "kernelspec": {
   "name": "python38364bitdspipenv981fd23ff60e48cca7e4321e2db599c6",
   "display_name": "Python 3.8.3 64-bit ('DS': pipenv)",
   "metadata": {
    "interpreter": {
     "hash": "1f69aa6a908dd77077108171b4c7abb4f45edb75f60153210175f5eb17d2a8fa"
    }
   }
  }
 },
 "nbformat": 4,
 "nbformat_minor": 2
}