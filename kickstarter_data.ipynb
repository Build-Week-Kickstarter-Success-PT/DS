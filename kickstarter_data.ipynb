{
 "cells": [
  {
   "cell_type": "code",
   "execution_count": 2,
   "metadata": {},
   "outputs": [],
   "source": [
    "# import libraries\n",
    "import pandas as pd\n",
    "import glob"
   ]
  },
  {
   "cell_type": "code",
   "execution_count": 3,
   "metadata": {},
   "outputs": [],
   "source": [
    "# use list comprehention and glob to create one db from many\n",
    "# works because he each db has the same columns\n",
    "df = pd.concat([pd.read_csv(x) for x in glob.glob('data/Kickstarter*.csv')], ignore_index = True)"
   ]
  },
  {
   "cell_type": "code",
   "execution_count": 4,
   "metadata": {},
   "outputs": [
    {
     "output_type": "execute_result",
     "data": {
      "text/plain": "   backers_count                                              blurb  \\\n0             52  We each wrote a play and would like to produce...   \n1             52  ALL-NEW SEXY BADGIRL characters from comic boo...   \n2            470  abode is a home security and automation compan...   \n3              0  Im working on a new Album titled i will surviv...   \n4              1  \"You're a diamond.. Crystalline Stone.\" It's J...   \n\n                                            category  \\\n0  {\"id\":285,\"name\":\"Plays\",\"slug\":\"theater/plays...   \n1  {\"id\":250,\"name\":\"Comic Books\",\"slug\":\"comics/...   \n2  {\"id\":52,\"name\":\"Hardware\",\"slug\":\"technology/...   \n3  {\"id\":318,\"name\":\"Faith\",\"slug\":\"music/faith\",...   \n4  {\"id\":299,\"name\":\"Music Videos\",\"slug\":\"film &...   \n\n   converted_pledged_amount country country_displayable_name  created_at  \\\n0                      3320      US        the United States  1433805107   \n1                      1794      US        the United States  1538243498   \n2                    152604      US        the United States  1420224067   \n3                         0      US        the United States  1433611505   \n4                        25      US        the United States  1452398487   \n\n                                             creator currency currency_symbol  \\\n0  {\"id\":2005763397,\"name\":\"Miller Pyke\",\"is_regi...      USD               $   \n1  {\"id\":667419690,\"name\":\"RED PILL PUBLISHING\",\"...      USD               $   \n2  {\"id\":1753692755,\"name\":\"abode\",\"slug\":\"goabod...      USD               $   \n3  {\"id\":92879809,\"name\":\"Anita Colon\",\"is_regist...      USD               $   \n4  {\"id\":976930407,\"name\":\"Jonathan Chidinma Ihej...      USD               $   \n\n   ...                                               slug  \\\n0  ...                     tackett-and-pyke-put-on-a-play   \n1  ...                           badgirl-sketchbook-vol16   \n2  ...  abode-real-security-and-home-automation-reinve...   \n3  ...                                        anita-colon   \n4  ...                      crystalline-stone-music-video   \n\n                                          source_url  spotlight  staff_pick  \\\n0  https://www.kickstarter.com/discover/categorie...       True       False   \n1  https://www.kickstarter.com/discover/categorie...       True       False   \n2  https://www.kickstarter.com/discover/categorie...       True       False   \n3  https://www.kickstarter.com/discover/categorie...      False       False   \n4  https://www.kickstarter.com/discover/categorie...      False       False   \n\n        state  state_changed_at  static_usd_rate  \\\n0  successful        1437076070              1.0   \n1  successful        1539019980              1.0   \n2  successful        1431100918              1.0   \n3      failed        1444499341              1.0   \n4      failed        1478897270              1.0   \n\n                                                urls usd_pledged  usd_type  \n0  {\"web\":{\"project\":\"https://www.kickstarter.com...      3320.0  domestic  \n1  {\"web\":{\"project\":\"https://www.kickstarter.com...      1794.0  domestic  \n2  {\"web\":{\"project\":\"https://www.kickstarter.com...    152604.3  domestic  \n3  {\"web\":{\"project\":\"https://www.kickstarter.com...         0.0  domestic  \n4  {\"web\":{\"project\":\"https://www.kickstarter.com...        25.0  domestic  \n\n[5 rows x 38 columns]",
      "text/html": "<div>\n<style scoped>\n    .dataframe tbody tr th:only-of-type {\n        vertical-align: middle;\n    }\n\n    .dataframe tbody tr th {\n        vertical-align: top;\n    }\n\n    .dataframe thead th {\n        text-align: right;\n    }\n</style>\n<table border=\"1\" class=\"dataframe\">\n  <thead>\n    <tr style=\"text-align: right;\">\n      <th></th>\n      <th>backers_count</th>\n      <th>blurb</th>\n      <th>category</th>\n      <th>converted_pledged_amount</th>\n      <th>country</th>\n      <th>country_displayable_name</th>\n      <th>created_at</th>\n      <th>creator</th>\n      <th>currency</th>\n      <th>currency_symbol</th>\n      <th>...</th>\n      <th>slug</th>\n      <th>source_url</th>\n      <th>spotlight</th>\n      <th>staff_pick</th>\n      <th>state</th>\n      <th>state_changed_at</th>\n      <th>static_usd_rate</th>\n      <th>urls</th>\n      <th>usd_pledged</th>\n      <th>usd_type</th>\n    </tr>\n  </thead>\n  <tbody>\n    <tr>\n      <th>0</th>\n      <td>52</td>\n      <td>We each wrote a play and would like to produce...</td>\n      <td>{\"id\":285,\"name\":\"Plays\",\"slug\":\"theater/plays...</td>\n      <td>3320</td>\n      <td>US</td>\n      <td>the United States</td>\n      <td>1433805107</td>\n      <td>{\"id\":2005763397,\"name\":\"Miller Pyke\",\"is_regi...</td>\n      <td>USD</td>\n      <td>$</td>\n      <td>...</td>\n      <td>tackett-and-pyke-put-on-a-play</td>\n      <td>https://www.kickstarter.com/discover/categorie...</td>\n      <td>True</td>\n      <td>False</td>\n      <td>successful</td>\n      <td>1437076070</td>\n      <td>1.0</td>\n      <td>{\"web\":{\"project\":\"https://www.kickstarter.com...</td>\n      <td>3320.0</td>\n      <td>domestic</td>\n    </tr>\n    <tr>\n      <th>1</th>\n      <td>52</td>\n      <td>ALL-NEW SEXY BADGIRL characters from comic boo...</td>\n      <td>{\"id\":250,\"name\":\"Comic Books\",\"slug\":\"comics/...</td>\n      <td>1794</td>\n      <td>US</td>\n      <td>the United States</td>\n      <td>1538243498</td>\n      <td>{\"id\":667419690,\"name\":\"RED PILL PUBLISHING\",\"...</td>\n      <td>USD</td>\n      <td>$</td>\n      <td>...</td>\n      <td>badgirl-sketchbook-vol16</td>\n      <td>https://www.kickstarter.com/discover/categorie...</td>\n      <td>True</td>\n      <td>False</td>\n      <td>successful</td>\n      <td>1539019980</td>\n      <td>1.0</td>\n      <td>{\"web\":{\"project\":\"https://www.kickstarter.com...</td>\n      <td>1794.0</td>\n      <td>domestic</td>\n    </tr>\n    <tr>\n      <th>2</th>\n      <td>470</td>\n      <td>abode is a home security and automation compan...</td>\n      <td>{\"id\":52,\"name\":\"Hardware\",\"slug\":\"technology/...</td>\n      <td>152604</td>\n      <td>US</td>\n      <td>the United States</td>\n      <td>1420224067</td>\n      <td>{\"id\":1753692755,\"name\":\"abode\",\"slug\":\"goabod...</td>\n      <td>USD</td>\n      <td>$</td>\n      <td>...</td>\n      <td>abode-real-security-and-home-automation-reinve...</td>\n      <td>https://www.kickstarter.com/discover/categorie...</td>\n      <td>True</td>\n      <td>False</td>\n      <td>successful</td>\n      <td>1431100918</td>\n      <td>1.0</td>\n      <td>{\"web\":{\"project\":\"https://www.kickstarter.com...</td>\n      <td>152604.3</td>\n      <td>domestic</td>\n    </tr>\n    <tr>\n      <th>3</th>\n      <td>0</td>\n      <td>Im working on a new Album titled i will surviv...</td>\n      <td>{\"id\":318,\"name\":\"Faith\",\"slug\":\"music/faith\",...</td>\n      <td>0</td>\n      <td>US</td>\n      <td>the United States</td>\n      <td>1433611505</td>\n      <td>{\"id\":92879809,\"name\":\"Anita Colon\",\"is_regist...</td>\n      <td>USD</td>\n      <td>$</td>\n      <td>...</td>\n      <td>anita-colon</td>\n      <td>https://www.kickstarter.com/discover/categorie...</td>\n      <td>False</td>\n      <td>False</td>\n      <td>failed</td>\n      <td>1444499341</td>\n      <td>1.0</td>\n      <td>{\"web\":{\"project\":\"https://www.kickstarter.com...</td>\n      <td>0.0</td>\n      <td>domestic</td>\n    </tr>\n    <tr>\n      <th>4</th>\n      <td>1</td>\n      <td>\"You're a diamond.. Crystalline Stone.\" It's J...</td>\n      <td>{\"id\":299,\"name\":\"Music Videos\",\"slug\":\"film &amp;...</td>\n      <td>25</td>\n      <td>US</td>\n      <td>the United States</td>\n      <td>1452398487</td>\n      <td>{\"id\":976930407,\"name\":\"Jonathan Chidinma Ihej...</td>\n      <td>USD</td>\n      <td>$</td>\n      <td>...</td>\n      <td>crystalline-stone-music-video</td>\n      <td>https://www.kickstarter.com/discover/categorie...</td>\n      <td>False</td>\n      <td>False</td>\n      <td>failed</td>\n      <td>1478897270</td>\n      <td>1.0</td>\n      <td>{\"web\":{\"project\":\"https://www.kickstarter.com...</td>\n      <td>25.0</td>\n      <td>domestic</td>\n    </tr>\n  </tbody>\n</table>\n<p>5 rows × 38 columns</p>\n</div>"
     },
     "metadata": {},
     "execution_count": 4
    }
   ],
   "source": [
    "df.head()"
   ]
  },
  {
   "cell_type": "code",
   "execution_count": null,
   "metadata": {},
   "outputs": [],
   "source": []
  }
 ],
 "metadata": {
  "language_info": {
   "codemirror_mode": {
    "name": "ipython",
    "version": 3
   },
   "file_extension": ".py",
   "mimetype": "text/x-python",
   "name": "python",
   "nbconvert_exporter": "python",
   "pygments_lexer": "ipython3",
   "version": "3.8.3-final"
  },
  "orig_nbformat": 2,
  "kernelspec": {
   "name": "python38364bitdspipenv981fd23ff60e48cca7e4321e2db599c6",
   "display_name": "Python 3.8.3 64-bit ('DS': pipenv)"
  }
 },
 "nbformat": 4,
 "nbformat_minor": 2
}