{
 "cells": [
  {
   "cell_type": "code",
   "execution_count": null,
   "metadata": {},
   "outputs": [],
   "source": [
    "# import libraries\n",
    "import category_encoders as ce\n",
    "import pandas as pd\n",
    "import glob\n",
    "import json\n",
    "from datetime import datetime\n",
    "from sklearn.linear_model import LogisticRegression\n",
    "from sklearn.preprocessing import StandardScaler\n"
   ]
  },
  {
   "cell_type": "code",
   "execution_count": null,
   "metadata": {},
   "outputs": [],
   "source": [
    "# use list comprehention and glob to create one db from many\n",
    "# this works because each db has the same columns\n",
    "# the csv files used can be found in 'data' in this github repository\n",
    "# which may need to be copied locally\n",
    "df1 = pd.concat([pd.read_csv(x) for x in glob.glob('data/Kickstarter*.csv')], ignore_index = True)\n"
   ]
  },
  {
   "cell_type": "code",
   "execution_count": null,
   "metadata": {},
   "outputs": [],
   "source": [
    "pd.options.display.max_columns=50\n",
    "df1.head(2)"
   ]
  },
  {
   "cell_type": "code",
   "execution_count": null,
   "metadata": {},
   "outputs": [],
   "source": [
    "df1.columns"
   ]
  },
  {
   "cell_type": "code",
   "execution_count": null,
   "metadata": {},
   "outputs": [],
   "source": [
    "df1.rename(columns={'category':'category_string', 'country':'country_id', 'country_displayable_name':'country', 'state':'campaign_success'}, inplace=True)"
   ]
  },
  {
   "cell_type": "code",
   "execution_count": null,
   "metadata": {
    "tags": []
   },
   "outputs": [],
   "source": [
    "df1.info()"
   ]
  },
  {
   "cell_type": "code",
   "execution_count": null,
   "metadata": {},
   "outputs": [],
   "source": [
    "df = df1.copy()"
   ]
  },
  {
   "cell_type": "code",
   "execution_count": null,
   "metadata": {},
   "outputs": [],
   "source": [
    "df['blurb'] = df['blurb'].astype(str)\n",
    "df['blurb_length']= df['blurb'].apply(lambda x: len(x))\n",
    "df['blurb_length'].describe()\n"
   ]
  },
  {
   "cell_type": "code",
   "execution_count": null,
   "metadata": {},
   "outputs": [],
   "source": [
    "df['blurb_length'].value_counts().sort_index()\n",
    "# df['blurb_length'].value_counts()"
   ]
  },
  {
   "source": [
    "## Prepare Category & Subcategory Data for Back End"
   ],
   "cell_type": "markdown",
   "metadata": {}
  },
  {
   "cell_type": "code",
   "execution_count": null,
   "metadata": {},
   "outputs": [],
   "source": [
    "#prepare category string to be split into several columns\n",
    "df['category_string']= df['category_string'].map(eval)"
   ]
  },
  {
   "cell_type": "code",
   "execution_count": null,
   "metadata": {},
   "outputs": [],
   "source": [
    "# split category into several columns\n",
    "df_c= df['category_string'].apply(pd.Series)\n",
    "df_c = df_c.drop(['id', 'position', 'parent_id', 'color', 'urls'], axis=1)\n",
    "df_c.rename(columns={'name':'subcategory', 'slug':'cat_subcat', 'parent_name':'category'}, inplace=True)\n",
    "df_c['category'].fillna(df_c['cat_subcat'], inplace=True)\n",
    "df_c['category'] = df_c['category'].str.capitalize()\n",
    "df['category']=df_c['category']\n",
    "df['subcategory']=df_c['subcategory']\n",
    "df['cat_subcat']=df_c['cat_subcat']\n"
   ]
  },
  {
   "cell_type": "code",
   "execution_count": null,
   "metadata": {},
   "outputs": [],
   "source": [
    "df.info()"
   ]
  },
  {
   "cell_type": "code",
   "execution_count": null,
   "metadata": {},
   "outputs": [],
   "source": [
    "# drop duplicate subcategories\n",
    "df_c = df_c.drop_duplicates(subset=['cat_subcat'])\n",
    "df_c = df_c.drop(columns=['cat_subcat'])\n",
    "df_c = df_c.sort_values(by=['category', 'subcategory'])\n",
    "columns_names = ['category', 'subcategory']\n",
    "df_c = df_c.reindex(columns=columns_names)\n",
    "df_c.head(10)"
   ]
  },
  {
   "cell_type": "code",
   "execution_count": null,
   "metadata": {},
   "outputs": [],
   "source": [
    "# drop duplicates contries\n",
    "df_country = df.copy()\n",
    "df_country = df_country[['country']]\n",
    "df_country = df_country.sort_values(by=['country'])\n",
    "df_country = df_country.drop_duplicates()\n",
    "df_country"
   ]
  },
  {
   "cell_type": "code",
   "execution_count": null,
   "metadata": {},
   "outputs": [],
   "source": [
    "categories_subcategories = os.getenv('Kickstart_Category_URL')\n",
    "country = os.getenv('Kickstart_Country_URL')\n",
    "\n",
    "df_c.to_json('categories_subcategories.json')\n",
    "df_country.to_json('country.json')\n"
   ]
  },
  {
   "source": [
    "## Row Evaluation"
   ],
   "cell_type": "markdown",
   "metadata": {}
  },
  {
   "cell_type": "code",
   "execution_count": null,
   "metadata": {
    "tags": []
   },
   "outputs": [],
   "source": [
    "# check for duplicates of individual projects\n",
    "dup_id = len(df[df.duplicated(subset='id')])\n",
    "print(f\"There are {dup_id} ids listed more than once.\")"
   ]
  },
  {
   "cell_type": "code",
   "execution_count": null,
   "metadata": {},
   "outputs": [],
   "source": [
    "df_dup_rows = df[df.duplicated(subset='id', keep=False)]\n",
    "df_dup_rows.shape"
   ]
  },
  {
   "cell_type": "code",
   "execution_count": null,
   "metadata": {},
   "outputs": [],
   "source": [
    "# discover how many rows contain duplicates\n",
    "dup_rows = len(df_dup_rows)\n",
    "print(f\"There are {dup_rows} rows containing duplicates.\")\n",
    "print(f\"That is an average of {(dup_rows/dup_id):.2f} copies per duplicated item.\")"
   ]
  },
  {
   "cell_type": "code",
   "execution_count": null,
   "metadata": {},
   "outputs": [],
   "source": [
    "# check state values\n",
    "# combine canceled with failed?  & drop live?\n",
    "# make booklean\n",
    "print(df['campaign_success'].value_counts())\n",
    "print(\"---\"*15)"
   ]
  },
  {
   "source": [
    "## Drop rows"
   ],
   "cell_type": "markdown",
   "metadata": {}
  },
  {
   "cell_type": "code",
   "execution_count": null,
   "metadata": {},
   "outputs": [],
   "source": [
    "print(df.shape)\n",
    "def row_wrangle(X):\n",
    "    X = X.copy()\n",
    "    # drop campaigns which are live or canceled\n",
    "    # drop duplicate id rows\n",
    "    X = X[X.campaign_success !='canceled']\n",
    "    X = X[X.campaign_success != 'live']\n",
    "    X = X.drop_duplicates(subset=['id'])\n",
    "    X = X[X.blurb_length > 1]\n",
    "    X = X.reset_index(drop=True)\n",
    "    return(X)\n",
    "df = row_wrangle(df)\n",
    "print(df.shape)"
   ]
  },
  {
   "cell_type": "code",
   "execution_count": null,
   "metadata": {},
   "outputs": [],
   "source": [
    "df.info()"
   ]
  },
  {
   "cell_type": "code",
   "execution_count": null,
   "metadata": {},
   "outputs": [],
   "source": [
    "# choose to ignore non USD values\n",
    "df['current_currency'].value_counts()"
   ]
  },
  {
   "cell_type": "code",
   "execution_count": null,
   "metadata": {},
   "outputs": [],
   "source": [
    "df['blurb_length'].value_counts().sort_index()"
   ]
  },
  {
   "cell_type": "code",
   "execution_count": null,
   "metadata": {},
   "outputs": [],
   "source": [
    "df.describe()"
   ]
  },
  {
   "cell_type": "code",
   "execution_count": null,
   "metadata": {},
   "outputs": [],
   "source": [
    "print(df['disable_communication'].value_counts())\n",
    "print(\"---\"*15)\n",
    "print('')\n",
    "print(df['is_starrable'].value_counts())\n",
    "print(\"---\"*15)\n",
    "print('')\n",
    "print(df['category'].nunique(), 'category items')"
   ]
  },
  {
   "source": [
    "## Column Evaluation"
   ],
   "cell_type": "markdown",
   "metadata": {}
  },
  {
   "cell_type": "code",
   "execution_count": null,
   "metadata": {},
   "outputs": [],
   "source": [
    "# columns to retain as-is (6)\n",
    "keepers = ['country', 'goal', 'blurb','category', 'launched_at', 'sub_category']\n",
    "\n",
    "# campaign_success, target column (1)"
   ]
  },
  {
   "cell_type": "code",
   "execution_count": null,
   "metadata": {},
   "outputs": [],
   "source": [
    "# future data columns, includes 4 mostly null columns(17)\n",
    "'''\n",
    "'spotlight' only applies to successfully funded projects,\n",
    "'is_starrable' is only true with live campaigns,\n",
    "'''\n",
    "\n",
    "future_data = ['backers_count', 'converted_pledged_amount', 'created_at', 'friends',\n",
    "                'id', 'is_backing', 'is_starred', 'permissions', 'photo',\n",
    "                'pledged', 'profile', 'source_url', 'spotlight', 'staff_pick',\n",
    "                'state_changed_at', 'urls', 'usd_pledged']"
   ]
  },
  {
   "cell_type": "code",
   "execution_count": null,
   "metadata": {},
   "outputs": [],
   "source": [
    "# extraneous columns (11)\n",
    "'''\n",
    "'disable_communications' only contains the value 'false',\n",
    "'is_starrable' only contains the value 'false',\n",
    "'country_displayable_name' duplicate information,\n",
    "\n",
    "'''\n",
    "extra_columns = ['category_string', 'country_id','creator',\n",
    "                'disable_communication', 'deadline', 'is_starrable', 'location',\n",
    "                'name', 'slug', 'cat_subcat', 'blurb_length']\n"
   ]
  },
  {
   "cell_type": "code",
   "execution_count": null,
   "metadata": {},
   "outputs": [],
   "source": [
    "# currency (7)\n",
    "#'fx_rate' is the foriegn exchange rate,\n",
    "currency_columns = ['currency', 'currency_symbol', 'currency_trailing_code',\n",
    "                'current_currency', 'fx_rate', 'static_usd_rate', 'usd_type']"
   ]
  },
  {
   "cell_type": "code",
   "execution_count": null,
   "metadata": {},
   "outputs": [],
   "source": [
    "len(df)"
   ]
  },
  {
   "source": [
    "## Wrangle Data"
   ],
   "cell_type": "markdown",
   "metadata": {}
  },
  {
   "cell_type": "code",
   "execution_count": null,
   "metadata": {},
   "outputs": [],
   "source": [
    "def wrangle(X):\n",
    "    # copy to avoid errors\n",
    "    X = X.copy()\n",
    "\n",
    "    # make boolean success column\n",
    "    X['campaign_success'] = X['campaign_success'].replace({'failed':0, 'successful':1})\n",
    "\n",
    "    # times are provided in UNIX in seconds\n",
    "    # subtraction & divided by will provide length in days\n",
    "    X['campaign_length'] = ((X['deadline']-X['launched_at'])/(60*24*60))\n",
    "\n",
    "    # Drop future, extraneous & duplicate columns\n",
    "    X = X.drop(columns=future_data)\n",
    "    X = X.drop(columns=extra_columns)\n",
    "\n",
    "    # Currency columns\n",
    "    X = X.drop(columns=currency_columns)\n",
    "\n",
    "    return(X)\n",
    "\n",
    "kickstart = wrangle(df)\n"
   ]
  },
  {
   "cell_type": "code",
   "execution_count": null,
   "metadata": {},
   "outputs": [],
   "source": [
    "kickstart.info()"
   ]
  },
  {
   "cell_type": "code",
   "execution_count": null,
   "metadata": {},
   "outputs": [],
   "source": [
    "kickstarter_1 = kickstart.iloc[:100000,:] \n",
    "kickstarter_2 = kickstart.iloc[100000:,:] \n",
    "print(\"Shape of new dataframes - {} , {}\".format(kickstarter_1.shape, kickstarter_2.shape)) "
   ]
  },
  {
   "cell_type": "code",
   "execution_count": null,
   "metadata": {},
   "outputs": [],
   "source": [
    "Clean_Data_1=os.getenv('Clean_Data_URL_1')\n",
    "Clean_Data_2=os.getenv('Clean_Data_URL_2')\n",
    "\n",
    "kickstarter_1.to_csv('Clean_Data_1.csv', index = False)\n",
    "kickstarter_2.to_csv('Clean_Data_2.csv', index = False)\n"
   ]
  }
 ],
 "metadata": {
  "language_info": {
   "codemirror_mode": {
    "name": "ipython",
    "version": 3
   },
   "file_extension": ".py",
   "mimetype": "text/x-python",
   "name": "python",
   "nbconvert_exporter": "python",
   "pygments_lexer": "ipython3",
   "version": "3.8.3-final"
  },
  "orig_nbformat": 2,
  "kernelspec": {
   "name": "Python 3.8.3 64-bit ('base': conda)",
   "display_name": "Python 3.8.3 64-bit ('base': conda)",
   "metadata": {
    "interpreter": {
     "hash": "1f69aa6a908dd77077108171b4c7abb4f45edb75f60153210175f5eb17d2a8fa"
    }
   }
  }
 },
 "nbformat": 4,
 "nbformat_minor": 2
}