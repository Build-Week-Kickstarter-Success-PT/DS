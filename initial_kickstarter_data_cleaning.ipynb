{
 "cells": [
  {
   "cell_type": "code",
   "execution_count": 1,
   "metadata": {},
   "outputs": [],
   "source": [
    "# import libraries\n",
    "import category_encoders as ce\n",
    "import pandas as pd\n",
    "import glob\n",
    "import json\n",
    "from datetime import datetime\n",
    "from sklearn.linear_model import LogisticRegression\n",
    "from sklearn.preprocessing import StandardScaler\n",
    "\n"
   ]
  },
  {
   "cell_type": "code",
   "execution_count": 2,
   "metadata": {},
   "outputs": [],
   "source": [
    "# use list comprehention and glob to create one db from many\n",
    "# works because he each db has the same columns\n",
    "df1 = pd.concat([pd.read_csv(x) for x in glob.glob('data/Kickstarter*.csv')], ignore_index = True)\n"
   ]
  },
  {
   "cell_type": "code",
   "execution_count": 3,
   "metadata": {},
   "outputs": [
    {
     "output_type": "execute_result",
     "data": {
      "text/plain": [
       "   backers_count                                              blurb  \\\n",
       "0             61  Support great art! Join us as we re-stage the ...   \n",
       "1             52  JinBucha is a new kind of Brewery in North Par...   \n",
       "\n",
       "                                            category  \\\n",
       "0  {\"id\":254,\"name\":\"Performances\",\"slug\":\"dance/...   \n",
       "1  {\"id\":307,\"name\":\"Drinks\",\"slug\":\"food/drinks\"...   \n",
       "\n",
       "   converted_pledged_amount country country_displayable_name  created_at  \\\n",
       "0                      4618      US        the United States  1579292017   \n",
       "1                      3461      US        the United States  1446051515   \n",
       "\n",
       "                                             creator currency currency_symbol  \\\n",
       "0  {\"id\":2092817311,\"name\":\"Brooklyn Ballet\",\"slu...      USD               $   \n",
       "1  {\"id\":1468694331,\"name\":\"Jing Chen\",\"slug\":\"ji...      USD               $   \n",
       "\n",
       "   currency_trailing_code current_currency    deadline  disable_communication  \\\n",
       "0                    True              USD  1583025192                  False   \n",
       "1                    True              USD  1450118057                  False   \n",
       "\n",
       "  friends  fx_rate     goal          id is_backing  is_starrable is_starred  \\\n",
       "0     NaN      1.0   3000.0  1568973024        NaN         False        NaN   \n",
       "1     NaN      1.0  20000.0  1782378629        NaN         False        NaN   \n",
       "\n",
       "   launched_at                                           location  \\\n",
       "0   1580433192  {\"id\":12589335,\"name\":\"Brooklyn\",\"slug\":\"brook...   \n",
       "1   1447526057  {\"id\":2487889,\"name\":\"San Diego\",\"slug\":\"san-d...   \n",
       "\n",
       "                                                name permissions  \\\n",
       "0                              Revisionist History 2         NaN   \n",
       "1  JinBucha: A Modern Kombucha tasting room in No...         NaN   \n",
       "\n",
       "                                               photo  pledged  \\\n",
       "0  {\"key\":\"assets/027/785/229/436e3e732fb36a494fe...   4618.0   \n",
       "1  {\"key\":\"assets/012/291/675/7fb6348cc8cb988e243...   3461.0   \n",
       "\n",
       "                                             profile  \\\n",
       "0  {\"id\":3914215,\"project_id\":3914215,\"state\":\"in...   \n",
       "1  {\"id\":2198010,\"project_id\":2198010,\"state\":\"in...   \n",
       "\n",
       "                                                slug  \\\n",
       "0                              revisionist-history-2   \n",
       "1  jinbucha-a-modern-kombucha-tasting-room-in-nor...   \n",
       "\n",
       "                                          source_url  spotlight  staff_pick  \\\n",
       "0  https://www.kickstarter.com/discover/categorie...       True        True   \n",
       "1  https://www.kickstarter.com/discover/categorie...      False        True   \n",
       "\n",
       "        state  state_changed_at  static_usd_rate  \\\n",
       "0  successful        1583025192              1.0   \n",
       "1      failed        1450118057              1.0   \n",
       "\n",
       "                                                urls  usd_pledged  usd_type  \n",
       "0  {\"web\":{\"project\":\"https://www.kickstarter.com...       4618.0  domestic  \n",
       "1  {\"web\":{\"project\":\"https://www.kickstarter.com...       3461.0  domestic  "
      ],
      "text/html": "<div>\n<style scoped>\n    .dataframe tbody tr th:only-of-type {\n        vertical-align: middle;\n    }\n\n    .dataframe tbody tr th {\n        vertical-align: top;\n    }\n\n    .dataframe thead th {\n        text-align: right;\n    }\n</style>\n<table border=\"1\" class=\"dataframe\">\n  <thead>\n    <tr style=\"text-align: right;\">\n      <th></th>\n      <th>backers_count</th>\n      <th>blurb</th>\n      <th>category</th>\n      <th>converted_pledged_amount</th>\n      <th>country</th>\n      <th>country_displayable_name</th>\n      <th>created_at</th>\n      <th>creator</th>\n      <th>currency</th>\n      <th>currency_symbol</th>\n      <th>currency_trailing_code</th>\n      <th>current_currency</th>\n      <th>deadline</th>\n      <th>disable_communication</th>\n      <th>friends</th>\n      <th>fx_rate</th>\n      <th>goal</th>\n      <th>id</th>\n      <th>is_backing</th>\n      <th>is_starrable</th>\n      <th>is_starred</th>\n      <th>launched_at</th>\n      <th>location</th>\n      <th>name</th>\n      <th>permissions</th>\n      <th>photo</th>\n      <th>pledged</th>\n      <th>profile</th>\n      <th>slug</th>\n      <th>source_url</th>\n      <th>spotlight</th>\n      <th>staff_pick</th>\n      <th>state</th>\n      <th>state_changed_at</th>\n      <th>static_usd_rate</th>\n      <th>urls</th>\n      <th>usd_pledged</th>\n      <th>usd_type</th>\n    </tr>\n  </thead>\n  <tbody>\n    <tr>\n      <th>0</th>\n      <td>61</td>\n      <td>Support great art! Join us as we re-stage the ...</td>\n      <td>{\"id\":254,\"name\":\"Performances\",\"slug\":\"dance/...</td>\n      <td>4618</td>\n      <td>US</td>\n      <td>the United States</td>\n      <td>1579292017</td>\n      <td>{\"id\":2092817311,\"name\":\"Brooklyn Ballet\",\"slu...</td>\n      <td>USD</td>\n      <td>$</td>\n      <td>True</td>\n      <td>USD</td>\n      <td>1583025192</td>\n      <td>False</td>\n      <td>NaN</td>\n      <td>1.0</td>\n      <td>3000.0</td>\n      <td>1568973024</td>\n      <td>NaN</td>\n      <td>False</td>\n      <td>NaN</td>\n      <td>1580433192</td>\n      <td>{\"id\":12589335,\"name\":\"Brooklyn\",\"slug\":\"brook...</td>\n      <td>Revisionist History 2</td>\n      <td>NaN</td>\n      <td>{\"key\":\"assets/027/785/229/436e3e732fb36a494fe...</td>\n      <td>4618.0</td>\n      <td>{\"id\":3914215,\"project_id\":3914215,\"state\":\"in...</td>\n      <td>revisionist-history-2</td>\n      <td>https://www.kickstarter.com/discover/categorie...</td>\n      <td>True</td>\n      <td>True</td>\n      <td>successful</td>\n      <td>1583025192</td>\n      <td>1.0</td>\n      <td>{\"web\":{\"project\":\"https://www.kickstarter.com...</td>\n      <td>4618.0</td>\n      <td>domestic</td>\n    </tr>\n    <tr>\n      <th>1</th>\n      <td>52</td>\n      <td>JinBucha is a new kind of Brewery in North Par...</td>\n      <td>{\"id\":307,\"name\":\"Drinks\",\"slug\":\"food/drinks\"...</td>\n      <td>3461</td>\n      <td>US</td>\n      <td>the United States</td>\n      <td>1446051515</td>\n      <td>{\"id\":1468694331,\"name\":\"Jing Chen\",\"slug\":\"ji...</td>\n      <td>USD</td>\n      <td>$</td>\n      <td>True</td>\n      <td>USD</td>\n      <td>1450118057</td>\n      <td>False</td>\n      <td>NaN</td>\n      <td>1.0</td>\n      <td>20000.0</td>\n      <td>1782378629</td>\n      <td>NaN</td>\n      <td>False</td>\n      <td>NaN</td>\n      <td>1447526057</td>\n      <td>{\"id\":2487889,\"name\":\"San Diego\",\"slug\":\"san-d...</td>\n      <td>JinBucha: A Modern Kombucha tasting room in No...</td>\n      <td>NaN</td>\n      <td>{\"key\":\"assets/012/291/675/7fb6348cc8cb988e243...</td>\n      <td>3461.0</td>\n      <td>{\"id\":2198010,\"project_id\":2198010,\"state\":\"in...</td>\n      <td>jinbucha-a-modern-kombucha-tasting-room-in-nor...</td>\n      <td>https://www.kickstarter.com/discover/categorie...</td>\n      <td>False</td>\n      <td>True</td>\n      <td>failed</td>\n      <td>1450118057</td>\n      <td>1.0</td>\n      <td>{\"web\":{\"project\":\"https://www.kickstarter.com...</td>\n      <td>3461.0</td>\n      <td>domestic</td>\n    </tr>\n  </tbody>\n</table>\n</div>"
     },
     "metadata": {},
     "execution_count": 3
    }
   ],
   "source": [
    "pd.options.display.max_columns=50\n",
    "df1.head(2)"
   ]
  },
  {
   "cell_type": "code",
   "execution_count": 4,
   "metadata": {},
   "outputs": [
    {
     "output_type": "execute_result",
     "data": {
      "text/plain": [
       "Index(['backers_count', 'blurb', 'category', 'converted_pledged_amount',\n",
       "       'country', 'country_displayable_name', 'created_at', 'creator',\n",
       "       'currency', 'currency_symbol', 'currency_trailing_code',\n",
       "       'current_currency', 'deadline', 'disable_communication', 'friends',\n",
       "       'fx_rate', 'goal', 'id', 'is_backing', 'is_starrable', 'is_starred',\n",
       "       'launched_at', 'location', 'name', 'permissions', 'photo', 'pledged',\n",
       "       'profile', 'slug', 'source_url', 'spotlight', 'staff_pick', 'state',\n",
       "       'state_changed_at', 'static_usd_rate', 'urls', 'usd_pledged',\n",
       "       'usd_type'],\n",
       "      dtype='object')"
      ]
     },
     "metadata": {},
     "execution_count": 4
    }
   ],
   "source": [
    "df1.columns"
   ]
  },
  {
   "cell_type": "code",
   "execution_count": 5,
   "metadata": {},
   "outputs": [],
   "source": [
    "df1.rename(columns={'category':'category_string', 'country':'country_id', 'country_displayable_name':'country', 'state':'campaign_success'}, inplace=True)"
   ]
  },
  {
   "cell_type": "code",
   "execution_count": 6,
   "metadata": {
    "tags": []
   },
   "outputs": [
    {
     "output_type": "stream",
     "name": "stdout",
     "text": [
      "<class 'pandas.core.frame.DataFrame'>\nRangeIndex: 219688 entries, 0 to 219687\nData columns (total 38 columns):\n #   Column                    Non-Null Count   Dtype  \n---  ------                    --------------   -----  \n 0   backers_count             219688 non-null  int64  \n 1   blurb                     219680 non-null  object \n 2   category_string           219688 non-null  object \n 3   converted_pledged_amount  219688 non-null  int64  \n 4   country_id                219688 non-null  object \n 5   country                   219688 non-null  object \n 6   created_at                219688 non-null  int64  \n 7   creator                   219688 non-null  object \n 8   currency                  219688 non-null  object \n 9   currency_symbol           219688 non-null  object \n 10  currency_trailing_code    219688 non-null  bool   \n 11  current_currency          219688 non-null  object \n 12  deadline                  219688 non-null  int64  \n 13  disable_communication     219688 non-null  bool   \n 14  friends                   192 non-null     object \n 15  fx_rate                   219688 non-null  float64\n 16  goal                      219688 non-null  float64\n 17  id                        219688 non-null  int64  \n 18  is_backing                192 non-null     object \n 19  is_starrable              219688 non-null  bool   \n 20  is_starred                192 non-null     object \n 21  launched_at               219688 non-null  int64  \n 22  location                  219473 non-null  object \n 23  name                      219688 non-null  object \n 24  permissions               192 non-null     object \n 25  photo                     219688 non-null  object \n 26  pledged                   219688 non-null  float64\n 27  profile                   219688 non-null  object \n 28  slug                      219688 non-null  object \n 29  source_url                219688 non-null  object \n 30  spotlight                 219688 non-null  bool   \n 31  staff_pick                219688 non-null  bool   \n 32  campaign_success          219688 non-null  object \n 33  state_changed_at          219688 non-null  int64  \n 34  static_usd_rate           219688 non-null  float64\n 35  urls                      219688 non-null  object \n 36  usd_pledged               219688 non-null  float64\n 37  usd_type                  219340 non-null  object \ndtypes: bool(5), float64(5), int64(7), object(21)\nmemory usage: 56.4+ MB\n"
     ]
    }
   ],
   "source": [
    "df1.info()"
   ]
  },
  {
   "cell_type": "code",
   "execution_count": 42,
   "metadata": {},
   "outputs": [],
   "source": [
    "df = df1.copy()"
   ]
  },
  {
   "cell_type": "code",
   "execution_count": 43,
   "metadata": {},
   "outputs": [
    {
     "output_type": "execute_result",
     "data": {
      "text/plain": [
       "count    219688.000000\n",
       "mean        107.435550\n",
       "std          30.364783\n",
       "min           1.000000\n",
       "25%          91.000000\n",
       "50%         120.000000\n",
       "75%         131.000000\n",
       "max         200.000000\n",
       "Name: blurb_length, dtype: float64"
      ]
     },
     "metadata": {},
     "execution_count": 43
    }
   ],
   "source": [
    "df['blurb'] = df['blurb'].astype(str)\n",
    "df['blurb_length']= df['blurb'].apply(lambda x: len(x))\n",
    "df['blurb_length'].describe()\n"
   ]
  },
  {
   "cell_type": "code",
   "execution_count": 44,
   "metadata": {},
   "outputs": [
    {
     "output_type": "execute_result",
     "data": {
      "text/plain": [
       "1       29\n",
       "2        8\n",
       "3       19\n",
       "4       20\n",
       "5       17\n",
       "      ... \n",
       "150    160\n",
       "151      4\n",
       "152      1\n",
       "153      1\n",
       "200      1\n",
       "Name: blurb_length, Length: 154, dtype: int64"
      ]
     },
     "metadata": {},
     "execution_count": 44
    }
   ],
   "source": [
    "df['blurb_length'].value_counts().sort_index()\n",
    "# df['blurb_length'].value_counts()"
   ]
  },
  {
   "source": [
    "## Prepare Category & Subcategory Data for Back End"
   ],
   "cell_type": "markdown",
   "metadata": {}
  },
  {
   "cell_type": "code",
   "execution_count": 45,
   "metadata": {},
   "outputs": [],
   "source": [
    "#prepare category string to be split into several columns\n",
    "df['category_string']= df['category_string'].map(eval)"
   ]
  },
  {
   "cell_type": "code",
   "execution_count": 46,
   "metadata": {},
   "outputs": [],
   "source": [
    "# split category into several columns\n",
    "df_c= df['category_string'].apply(pd.Series)\n",
    "df_c = df_c.drop(['id', 'position', 'parent_id', 'color', 'urls'], axis=1)\n",
    "df_c.rename(columns={'name':'subcategory', 'slug':'cat_subcat', 'parent_name':'category'}, inplace=True)\n",
    "df_c['category'].fillna(df_c['cat_subcat'], inplace=True)\n",
    "df_c['category'] = df_c['category'].str.capitalize()\n",
    "df['category']=df_c['category']\n",
    "df['subcategory']=df_c['subcategory']\n",
    "df['cat_subcat']=df_c['cat_subcat']\n"
   ]
  },
  {
   "cell_type": "code",
   "execution_count": 47,
   "metadata": {},
   "outputs": [
    {
     "output_type": "stream",
     "name": "stdout",
     "text": [
      "<class 'pandas.core.frame.DataFrame'>\nRangeIndex: 219688 entries, 0 to 219687\nData columns (total 42 columns):\n #   Column                    Non-Null Count   Dtype  \n---  ------                    --------------   -----  \n 0   backers_count             219688 non-null  int64  \n 1   blurb                     219688 non-null  object \n 2   category_string           219688 non-null  object \n 3   converted_pledged_amount  219688 non-null  int64  \n 4   country_id                219688 non-null  object \n 5   country                   219688 non-null  object \n 6   created_at                219688 non-null  int64  \n 7   creator                   219688 non-null  object \n 8   currency                  219688 non-null  object \n 9   currency_symbol           219688 non-null  object \n 10  currency_trailing_code    219688 non-null  bool   \n 11  current_currency          219688 non-null  object \n 12  deadline                  219688 non-null  int64  \n 13  disable_communication     219688 non-null  bool   \n 14  friends                   192 non-null     object \n 15  fx_rate                   219688 non-null  float64\n 16  goal                      219688 non-null  float64\n 17  id                        219688 non-null  int64  \n 18  is_backing                192 non-null     object \n 19  is_starrable              219688 non-null  bool   \n 20  is_starred                192 non-null     object \n 21  launched_at               219688 non-null  int64  \n 22  location                  219473 non-null  object \n 23  name                      219688 non-null  object \n 24  permissions               192 non-null     object \n 25  photo                     219688 non-null  object \n 26  pledged                   219688 non-null  float64\n 27  profile                   219688 non-null  object \n 28  slug                      219688 non-null  object \n 29  source_url                219688 non-null  object \n 30  spotlight                 219688 non-null  bool   \n 31  staff_pick                219688 non-null  bool   \n 32  campaign_success          219688 non-null  object \n 33  state_changed_at          219688 non-null  int64  \n 34  static_usd_rate           219688 non-null  float64\n 35  urls                      219688 non-null  object \n 36  usd_pledged               219688 non-null  float64\n 37  usd_type                  219340 non-null  object \n 38  blurb_length              219688 non-null  int64  \n 39  category                  219688 non-null  object \n 40  subcategory               219688 non-null  object \n 41  cat_subcat                219688 non-null  object \ndtypes: bool(5), float64(5), int64(8), object(24)\nmemory usage: 63.1+ MB\n"
     ]
    }
   ],
   "source": [
    "df.info()"
   ]
  },
  {
   "cell_type": "code",
   "execution_count": 48,
   "metadata": {},
   "outputs": [
    {
     "output_type": "execute_result",
     "data": {
      "text/plain": [
       "     category      subcategory\n",
       "1275      Art              Art\n",
       "519       Art         Ceramics\n",
       "45        Art   Conceptual Art\n",
       "1372      Art      Digital Art\n",
       "435       Art     Illustration\n",
       "5384      Art    Installations\n",
       "1794      Art      Mixed Media\n",
       "13        Art         Painting\n",
       "3789      Art  Performance Art\n",
       "434       Art       Public Art"
      ],
      "text/html": "<div>\n<style scoped>\n    .dataframe tbody tr th:only-of-type {\n        vertical-align: middle;\n    }\n\n    .dataframe tbody tr th {\n        vertical-align: top;\n    }\n\n    .dataframe thead th {\n        text-align: right;\n    }\n</style>\n<table border=\"1\" class=\"dataframe\">\n  <thead>\n    <tr style=\"text-align: right;\">\n      <th></th>\n      <th>category</th>\n      <th>subcategory</th>\n    </tr>\n  </thead>\n  <tbody>\n    <tr>\n      <th>1275</th>\n      <td>Art</td>\n      <td>Art</td>\n    </tr>\n    <tr>\n      <th>519</th>\n      <td>Art</td>\n      <td>Ceramics</td>\n    </tr>\n    <tr>\n      <th>45</th>\n      <td>Art</td>\n      <td>Conceptual Art</td>\n    </tr>\n    <tr>\n      <th>1372</th>\n      <td>Art</td>\n      <td>Digital Art</td>\n    </tr>\n    <tr>\n      <th>435</th>\n      <td>Art</td>\n      <td>Illustration</td>\n    </tr>\n    <tr>\n      <th>5384</th>\n      <td>Art</td>\n      <td>Installations</td>\n    </tr>\n    <tr>\n      <th>1794</th>\n      <td>Art</td>\n      <td>Mixed Media</td>\n    </tr>\n    <tr>\n      <th>13</th>\n      <td>Art</td>\n      <td>Painting</td>\n    </tr>\n    <tr>\n      <th>3789</th>\n      <td>Art</td>\n      <td>Performance Art</td>\n    </tr>\n    <tr>\n      <th>434</th>\n      <td>Art</td>\n      <td>Public Art</td>\n    </tr>\n  </tbody>\n</table>\n</div>"
     },
     "metadata": {},
     "execution_count": 48
    }
   ],
   "source": [
    "# drop duplicate subcategories\n",
    "df_c = df_c.drop_duplicates(subset=['cat_subcat'])\n",
    "df_c = df_c.drop(columns=['cat_subcat'])\n",
    "df_c = df_c.sort_values(by=['category', 'subcategory'])\n",
    "columns_names = ['category', 'subcategory']\n",
    "df_c = df_c.reindex(columns=columns_names)\n",
    "df_c.head(10)"
   ]
  },
  {
   "cell_type": "code",
   "execution_count": 49,
   "metadata": {},
   "outputs": [
    {
     "output_type": "execute_result",
     "data": {
      "text/plain": [
       "                   country\n",
       "167670           Australia\n",
       "153397             Austria\n",
       "175552             Belgium\n",
       "98606               Canada\n",
       "2301               Denmark\n",
       "161308              France\n",
       "86841              Germany\n",
       "10371            Hong Kong\n",
       "149854             Ireland\n",
       "69391                Italy\n",
       "138548               Japan\n",
       "7070            Luxembourg\n",
       "217863              Mexico\n",
       "215032         New Zealand\n",
       "51326               Norway\n",
       "28235            Singapore\n",
       "177430               Spain\n",
       "40567               Sweden\n",
       "214489         Switzerland\n",
       "170119     the Netherlands\n",
       "115430  the United Kingdom\n",
       "206772   the United States"
      ],
      "text/html": "<div>\n<style scoped>\n    .dataframe tbody tr th:only-of-type {\n        vertical-align: middle;\n    }\n\n    .dataframe tbody tr th {\n        vertical-align: top;\n    }\n\n    .dataframe thead th {\n        text-align: right;\n    }\n</style>\n<table border=\"1\" class=\"dataframe\">\n  <thead>\n    <tr style=\"text-align: right;\">\n      <th></th>\n      <th>country</th>\n    </tr>\n  </thead>\n  <tbody>\n    <tr>\n      <th>167670</th>\n      <td>Australia</td>\n    </tr>\n    <tr>\n      <th>153397</th>\n      <td>Austria</td>\n    </tr>\n    <tr>\n      <th>175552</th>\n      <td>Belgium</td>\n    </tr>\n    <tr>\n      <th>98606</th>\n      <td>Canada</td>\n    </tr>\n    <tr>\n      <th>2301</th>\n      <td>Denmark</td>\n    </tr>\n    <tr>\n      <th>161308</th>\n      <td>France</td>\n    </tr>\n    <tr>\n      <th>86841</th>\n      <td>Germany</td>\n    </tr>\n    <tr>\n      <th>10371</th>\n      <td>Hong Kong</td>\n    </tr>\n    <tr>\n      <th>149854</th>\n      <td>Ireland</td>\n    </tr>\n    <tr>\n      <th>69391</th>\n      <td>Italy</td>\n    </tr>\n    <tr>\n      <th>138548</th>\n      <td>Japan</td>\n    </tr>\n    <tr>\n      <th>7070</th>\n      <td>Luxembourg</td>\n    </tr>\n    <tr>\n      <th>217863</th>\n      <td>Mexico</td>\n    </tr>\n    <tr>\n      <th>215032</th>\n      <td>New Zealand</td>\n    </tr>\n    <tr>\n      <th>51326</th>\n      <td>Norway</td>\n    </tr>\n    <tr>\n      <th>28235</th>\n      <td>Singapore</td>\n    </tr>\n    <tr>\n      <th>177430</th>\n      <td>Spain</td>\n    </tr>\n    <tr>\n      <th>40567</th>\n      <td>Sweden</td>\n    </tr>\n    <tr>\n      <th>214489</th>\n      <td>Switzerland</td>\n    </tr>\n    <tr>\n      <th>170119</th>\n      <td>the Netherlands</td>\n    </tr>\n    <tr>\n      <th>115430</th>\n      <td>the United Kingdom</td>\n    </tr>\n    <tr>\n      <th>206772</th>\n      <td>the United States</td>\n    </tr>\n  </tbody>\n</table>\n</div>"
     },
     "metadata": {},
     "execution_count": 49
    }
   ],
   "source": [
    "# drop duplicates contries\n",
    "df_country = df.copy()\n",
    "df_country = df_country[['country']]\n",
    "df_country = df_country.sort_values(by=['country'])\n",
    "df_country = df_country.drop_duplicates()\n",
    "df_country"
   ]
  },
  {
   "cell_type": "code",
   "execution_count": 50,
   "metadata": {},
   "outputs": [],
   "source": [
    "df_c.to_json(r'C:\\Users\\whats\\DS_Unit_3\\Kickstart\\categories_subcategories.json')\n",
    "df_country.to_json(r'C:\\Users\\whats\\DS_Unit_3\\Kickstart\\country.json')\n"
   ]
  },
  {
   "source": [
    "## Row Evaluation"
   ],
   "cell_type": "markdown",
   "metadata": {}
  },
  {
   "cell_type": "code",
   "execution_count": 51,
   "metadata": {
    "tags": []
   },
   "outputs": [
    {
     "output_type": "stream",
     "name": "stdout",
     "text": [
      "There are 27669 ids listed more than once.\n"
     ]
    }
   ],
   "source": [
    "# check for duplicates of individual projects\n",
    "dup_id = len(df[df.duplicated(subset='id')])\n",
    "print(f\"There are {dup_id} ids listed more than once.\")"
   ]
  },
  {
   "cell_type": "code",
   "execution_count": 52,
   "metadata": {},
   "outputs": [
    {
     "output_type": "execute_result",
     "data": {
      "text/plain": [
       "(55336, 42)"
      ]
     },
     "metadata": {},
     "execution_count": 52
    }
   ],
   "source": [
    "df_dup_rows = df[df.duplicated(subset='id', keep=False)]\n",
    "df_dup_rows.shape"
   ]
  },
  {
   "cell_type": "code",
   "execution_count": 53,
   "metadata": {},
   "outputs": [
    {
     "output_type": "stream",
     "name": "stdout",
     "text": [
      "There are 55336 rows containing duplicates.\nThat is an average of 2.00 copies per duplicated item.\n"
     ]
    }
   ],
   "source": [
    "# discover how many rows contain duplicates\n",
    "dup_rows = len(df_dup_rows)\n",
    "print(f\"There are {dup_rows} rows containing duplicates.\")\n",
    "print(f\"That is an average of {(dup_rows/dup_id):.2f} copies per duplicated item.\")"
   ]
  },
  {
   "cell_type": "code",
   "execution_count": 54,
   "metadata": {},
   "outputs": [
    {
     "output_type": "stream",
     "name": "stdout",
     "text": [
      "successful    128156\nfailed         76137\ncanceled        9138\nlive            6257\nName: campaign_success, dtype: int64\n---------------------------------------------\n"
     ]
    }
   ],
   "source": [
    "# check state values\n",
    "# combine canceled with failed?  & drop live?\n",
    "# make booklean\n",
    "print(df['campaign_success'].value_counts())\n",
    "print(\"---\"*15)"
   ]
  },
  {
   "source": [
    "## Drop rows"
   ],
   "cell_type": "markdown",
   "metadata": {}
  },
  {
   "cell_type": "code",
   "execution_count": 55,
   "metadata": {},
   "outputs": [
    {
     "output_type": "stream",
     "name": "stdout",
     "text": [
      "(219688, 42)\n",
      "(179456, 42)\n"
     ]
    }
   ],
   "source": [
    "print(df.shape)\n",
    "def row_wrangle(X):\n",
    "    X = X.copy()\n",
    "    # drop campaigns which are live or canceled\n",
    "    # drop duplicate id rows\n",
    "    X = X[X.campaign_success !='canceled']\n",
    "    X = X[X.campaign_success != 'live']\n",
    "    X = X.drop_duplicates(subset=['id'])\n",
    "    X = X[X.blurb_length > 1]\n",
    "    X = X.reset_index(drop=True)\n",
    "    return(X)\n",
    "df = row_wrangle(df)\n",
    "print(df.shape)"
   ]
  },
  {
   "cell_type": "code",
   "execution_count": 56,
   "metadata": {},
   "outputs": [
    {
     "output_type": "stream",
     "name": "stdout",
     "text": [
      "<class 'pandas.core.frame.DataFrame'>\nRangeIndex: 179456 entries, 0 to 179455\nData columns (total 42 columns):\n #   Column                    Non-Null Count   Dtype  \n---  ------                    --------------   -----  \n 0   backers_count             179456 non-null  int64  \n 1   blurb                     179456 non-null  object \n 2   category_string           179456 non-null  object \n 3   converted_pledged_amount  179456 non-null  int64  \n 4   country_id                179456 non-null  object \n 5   country                   179456 non-null  object \n 6   created_at                179456 non-null  int64  \n 7   creator                   179456 non-null  object \n 8   currency                  179456 non-null  object \n 9   currency_symbol           179456 non-null  object \n 10  currency_trailing_code    179456 non-null  bool   \n 11  current_currency          179456 non-null  object \n 12  deadline                  179456 non-null  int64  \n 13  disable_communication     179456 non-null  bool   \n 14  friends                   0 non-null       object \n 15  fx_rate                   179456 non-null  float64\n 16  goal                      179456 non-null  float64\n 17  id                        179456 non-null  int64  \n 18  is_backing                0 non-null       object \n 19  is_starrable              179456 non-null  bool   \n 20  is_starred                0 non-null       object \n 21  launched_at               179456 non-null  int64  \n 22  location                  179251 non-null  object \n 23  name                      179456 non-null  object \n 24  permissions               0 non-null       object \n 25  photo                     179456 non-null  object \n 26  pledged                   179456 non-null  float64\n 27  profile                   179456 non-null  object \n 28  slug                      179456 non-null  object \n 29  source_url                179456 non-null  object \n 30  spotlight                 179456 non-null  bool   \n 31  staff_pick                179456 non-null  bool   \n 32  campaign_success          179456 non-null  object \n 33  state_changed_at          179456 non-null  int64  \n 34  static_usd_rate           179456 non-null  float64\n 35  urls                      179456 non-null  object \n 36  usd_pledged               179456 non-null  float64\n 37  usd_type                  179407 non-null  object \n 38  blurb_length              179456 non-null  int64  \n 39  category                  179456 non-null  object \n 40  subcategory               179456 non-null  object \n 41  cat_subcat                179456 non-null  object \ndtypes: bool(5), float64(5), int64(8), object(24)\nmemory usage: 51.5+ MB\n"
     ]
    }
   ],
   "source": [
    "df.info()"
   ]
  },
  {
   "cell_type": "code",
   "execution_count": 57,
   "metadata": {},
   "outputs": [
    {
     "output_type": "execute_result",
     "data": {
      "text/plain": [
       "USD    179407\n",
       "AUD        41\n",
       "EUR         8\n",
       "Name: current_currency, dtype: int64"
      ]
     },
     "metadata": {},
     "execution_count": 57
    }
   ],
   "source": [
    "# choose to ignore non USD values\n",
    "df['current_currency'].value_counts()"
   ]
  },
  {
   "cell_type": "code",
   "execution_count": 58,
   "metadata": {},
   "outputs": [
    {
     "output_type": "execute_result",
     "data": {
      "text/plain": [
       "2        2\n",
       "3        6\n",
       "4        7\n",
       "5       11\n",
       "6       13\n",
       "      ... \n",
       "149     82\n",
       "150    155\n",
       "151      4\n",
       "153      1\n",
       "200      1\n",
       "Name: blurb_length, Length: 152, dtype: int64"
      ]
     },
     "metadata": {},
     "execution_count": 58
    }
   ],
   "source": [
    "df['blurb_length'].value_counts().sort_index()"
   ]
  },
  {
   "cell_type": "code",
   "execution_count": 59,
   "metadata": {},
   "outputs": [
    {
     "output_type": "execute_result",
     "data": {
      "text/plain": [
       "       backers_count  converted_pledged_amount    created_at      deadline  \\\n",
       "count  179456.000000              1.794560e+05  1.794560e+05  1.794560e+05   \n",
       "mean      148.874978              1.336706e+04  1.468806e+09  1.475791e+09   \n",
       "std       960.843985              1.048699e+05  7.427843e+07  7.401401e+07   \n",
       "min         0.000000              0.000000e+00  1.240366e+09  1.242468e+09   \n",
       "25%         4.000000              1.110000e+02  1.416500e+09  1.424900e+09   \n",
       "50%        27.000000              1.564000e+03  1.466001e+09  1.473308e+09   \n",
       "75%        90.000000              6.564250e+03  1.530118e+09  1.537138e+09   \n",
       "max    105857.000000              1.296961e+07  1.599594e+09  1.600315e+09   \n",
       "\n",
       "             fx_rate          goal            id   launched_at       pledged  \\\n",
       "count  179456.000000  1.794560e+05  1.794560e+05  1.794560e+05  1.794560e+05   \n",
       "mean        0.992772  5.065833e+04  1.073176e+09  1.472947e+09  2.554876e+04   \n",
       "std         0.216976  1.198595e+06  6.188916e+08  7.402606e+07  1.365928e+06   \n",
       "min         0.009499  1.000000e-02  1.852000e+04  1.240674e+09  0.000000e+00   \n",
       "25%         1.000000  1.500000e+03  5.368545e+08  1.421997e+09  1.170000e+02   \n",
       "50%         1.000000  5.000000e+03  1.073278e+09  1.470489e+09  1.600000e+03   \n",
       "75%         1.000000  1.500000e+04  1.608160e+09  1.534352e+09  7.013000e+03   \n",
       "max         1.777829  1.000000e+08  2.147476e+09  1.599797e+09  4.816218e+08   \n",
       "\n",
       "       state_changed_at  static_usd_rate   usd_pledged   blurb_length  \n",
       "count      1.794560e+05    179456.000000  1.794560e+05  179456.000000  \n",
       "mean       1.475791e+09         1.003930  1.336414e+04     109.124142  \n",
       "std        7.401404e+07         0.236859  1.047623e+05      29.293015  \n",
       "min        1.242468e+09         0.008771  0.000000e+00       2.000000  \n",
       "25%        1.424900e+09         1.000000  1.119307e+02      94.000000  \n",
       "50%        1.473308e+09         1.000000  1.565701e+03     122.000000  \n",
       "75%        1.537138e+09         1.000000  6.567250e+03     132.000000  \n",
       "max        1.600315e+09         1.716408  1.296961e+07     200.000000  "
      ],
      "text/html": "<div>\n<style scoped>\n    .dataframe tbody tr th:only-of-type {\n        vertical-align: middle;\n    }\n\n    .dataframe tbody tr th {\n        vertical-align: top;\n    }\n\n    .dataframe thead th {\n        text-align: right;\n    }\n</style>\n<table border=\"1\" class=\"dataframe\">\n  <thead>\n    <tr style=\"text-align: right;\">\n      <th></th>\n      <th>backers_count</th>\n      <th>converted_pledged_amount</th>\n      <th>created_at</th>\n      <th>deadline</th>\n      <th>fx_rate</th>\n      <th>goal</th>\n      <th>id</th>\n      <th>launched_at</th>\n      <th>pledged</th>\n      <th>state_changed_at</th>\n      <th>static_usd_rate</th>\n      <th>usd_pledged</th>\n      <th>blurb_length</th>\n    </tr>\n  </thead>\n  <tbody>\n    <tr>\n      <th>count</th>\n      <td>179456.000000</td>\n      <td>1.794560e+05</td>\n      <td>1.794560e+05</td>\n      <td>1.794560e+05</td>\n      <td>179456.000000</td>\n      <td>1.794560e+05</td>\n      <td>1.794560e+05</td>\n      <td>1.794560e+05</td>\n      <td>1.794560e+05</td>\n      <td>1.794560e+05</td>\n      <td>179456.000000</td>\n      <td>1.794560e+05</td>\n      <td>179456.000000</td>\n    </tr>\n    <tr>\n      <th>mean</th>\n      <td>148.874978</td>\n      <td>1.336706e+04</td>\n      <td>1.468806e+09</td>\n      <td>1.475791e+09</td>\n      <td>0.992772</td>\n      <td>5.065833e+04</td>\n      <td>1.073176e+09</td>\n      <td>1.472947e+09</td>\n      <td>2.554876e+04</td>\n      <td>1.475791e+09</td>\n      <td>1.003930</td>\n      <td>1.336414e+04</td>\n      <td>109.124142</td>\n    </tr>\n    <tr>\n      <th>std</th>\n      <td>960.843985</td>\n      <td>1.048699e+05</td>\n      <td>7.427843e+07</td>\n      <td>7.401401e+07</td>\n      <td>0.216976</td>\n      <td>1.198595e+06</td>\n      <td>6.188916e+08</td>\n      <td>7.402606e+07</td>\n      <td>1.365928e+06</td>\n      <td>7.401404e+07</td>\n      <td>0.236859</td>\n      <td>1.047623e+05</td>\n      <td>29.293015</td>\n    </tr>\n    <tr>\n      <th>min</th>\n      <td>0.000000</td>\n      <td>0.000000e+00</td>\n      <td>1.240366e+09</td>\n      <td>1.242468e+09</td>\n      <td>0.009499</td>\n      <td>1.000000e-02</td>\n      <td>1.852000e+04</td>\n      <td>1.240674e+09</td>\n      <td>0.000000e+00</td>\n      <td>1.242468e+09</td>\n      <td>0.008771</td>\n      <td>0.000000e+00</td>\n      <td>2.000000</td>\n    </tr>\n    <tr>\n      <th>25%</th>\n      <td>4.000000</td>\n      <td>1.110000e+02</td>\n      <td>1.416500e+09</td>\n      <td>1.424900e+09</td>\n      <td>1.000000</td>\n      <td>1.500000e+03</td>\n      <td>5.368545e+08</td>\n      <td>1.421997e+09</td>\n      <td>1.170000e+02</td>\n      <td>1.424900e+09</td>\n      <td>1.000000</td>\n      <td>1.119307e+02</td>\n      <td>94.000000</td>\n    </tr>\n    <tr>\n      <th>50%</th>\n      <td>27.000000</td>\n      <td>1.564000e+03</td>\n      <td>1.466001e+09</td>\n      <td>1.473308e+09</td>\n      <td>1.000000</td>\n      <td>5.000000e+03</td>\n      <td>1.073278e+09</td>\n      <td>1.470489e+09</td>\n      <td>1.600000e+03</td>\n      <td>1.473308e+09</td>\n      <td>1.000000</td>\n      <td>1.565701e+03</td>\n      <td>122.000000</td>\n    </tr>\n    <tr>\n      <th>75%</th>\n      <td>90.000000</td>\n      <td>6.564250e+03</td>\n      <td>1.530118e+09</td>\n      <td>1.537138e+09</td>\n      <td>1.000000</td>\n      <td>1.500000e+04</td>\n      <td>1.608160e+09</td>\n      <td>1.534352e+09</td>\n      <td>7.013000e+03</td>\n      <td>1.537138e+09</td>\n      <td>1.000000</td>\n      <td>6.567250e+03</td>\n      <td>132.000000</td>\n    </tr>\n    <tr>\n      <th>max</th>\n      <td>105857.000000</td>\n      <td>1.296961e+07</td>\n      <td>1.599594e+09</td>\n      <td>1.600315e+09</td>\n      <td>1.777829</td>\n      <td>1.000000e+08</td>\n      <td>2.147476e+09</td>\n      <td>1.599797e+09</td>\n      <td>4.816218e+08</td>\n      <td>1.600315e+09</td>\n      <td>1.716408</td>\n      <td>1.296961e+07</td>\n      <td>200.000000</td>\n    </tr>\n  </tbody>\n</table>\n</div>"
     },
     "metadata": {},
     "execution_count": 59
    }
   ],
   "source": [
    "df.describe()"
   ]
  },
  {
   "cell_type": "code",
   "execution_count": 60,
   "metadata": {},
   "outputs": [
    {
     "output_type": "stream",
     "name": "stdout",
     "text": [
      "False    179456\nName: disable_communication, dtype: int64\n---------------------------------------------\n\nFalse    179456\nName: is_starrable, dtype: int64\n---------------------------------------------\n\n15 category items\n"
     ]
    }
   ],
   "source": [
    "print(df['disable_communication'].value_counts())\n",
    "print(\"---\"*15)\n",
    "print('')\n",
    "print(df['is_starrable'].value_counts())\n",
    "print(\"---\"*15)\n",
    "print('')\n",
    "print(df['category'].nunique(), 'category items')"
   ]
  },
  {
   "source": [
    "## Column Evaluation"
   ],
   "cell_type": "markdown",
   "metadata": {}
  },
  {
   "cell_type": "code",
   "execution_count": 61,
   "metadata": {},
   "outputs": [],
   "source": [
    "# columns to retain as-is (6)\n",
    "keepers = ['country', 'goal', 'blurb','category', 'launched_at', 'sub_category']\n",
    "\n",
    "# campaign_success, target column (1)"
   ]
  },
  {
   "cell_type": "code",
   "execution_count": 62,
   "metadata": {},
   "outputs": [],
   "source": [
    "# future data columns, includes 4 mostly null columns(17)\n",
    "'''\n",
    "'spotlight' only applies to successfully funded projects,\n",
    "'is_starrable' is only true with live campaigns,\n",
    "'''\n",
    "\n",
    "future_data = ['backers_count', 'converted_pledged_amount', 'created_at', 'friends',\n",
    "                'id', 'is_backing', 'is_starred', 'permissions', 'photo',\n",
    "                'pledged', 'profile', 'source_url', 'spotlight', 'staff_pick',\n",
    "                'state_changed_at', 'urls', 'usd_pledged']"
   ]
  },
  {
   "cell_type": "code",
   "execution_count": 63,
   "metadata": {},
   "outputs": [],
   "source": [
    "# extraneous columns (11)\n",
    "'''\n",
    "'disable_communications' only contains the value 'false',\n",
    "'is_starrable' only contains the value 'false',\n",
    "'country_displayable_name' duplicate information,\n",
    "\n",
    "'''\n",
    "extra_columns = ['category_string', 'country_id','creator',\n",
    "                'disable_communication', 'deadline', 'is_starrable', 'location',\n",
    "                'name', 'slug', 'cat_subcat', 'blurb_length']\n"
   ]
  },
  {
   "cell_type": "code",
   "execution_count": 64,
   "metadata": {},
   "outputs": [],
   "source": [
    "# currency (7)\n",
    "#'fx_rate' is the foriegn exchange rate,\n",
    "currency_columns = ['currency', 'currency_symbol', 'currency_trailing_code',\n",
    "                'current_currency', 'fx_rate', 'static_usd_rate', 'usd_type']"
   ]
  },
  {
   "cell_type": "code",
   "execution_count": 65,
   "metadata": {},
   "outputs": [
    {
     "output_type": "execute_result",
     "data": {
      "text/plain": [
       "179456"
      ]
     },
     "metadata": {},
     "execution_count": 65
    }
   ],
   "source": [
    "len(df)"
   ]
  },
  {
   "source": [
    "## Wrangle Data"
   ],
   "cell_type": "markdown",
   "metadata": {}
  },
  {
   "cell_type": "code",
   "execution_count": 66,
   "metadata": {},
   "outputs": [],
   "source": [
    "def wrangle(X):\n",
    "    # copy to avoid errors\n",
    "    X = X.copy()\n",
    "\n",
    "    # make boolean success column\n",
    "    X['campaign_success'] = X['campaign_success'].replace({'failed':0, 'successful':1})\n",
    "\n",
    "    # times are provided in UNIX in seconds\n",
    "    # subtraction & divided by will provide length in days\n",
    "    X['campaign_length'] = ((X['deadline']-X['launched_at'])/(60*24*60))\n",
    "\n",
    "    # Drop future, extraneous & duplicate columns\n",
    "    X = X.drop(columns=future_data)\n",
    "    X = X.drop(columns=extra_columns)\n",
    "\n",
    "    # Currency columns\n",
    "    X = X.drop(columns=currency_columns)\n",
    "\n",
    "    return(X)\n",
    "\n",
    "kickstart = wrangle(df)\n"
   ]
  },
  {
   "cell_type": "code",
   "execution_count": 67,
   "metadata": {},
   "outputs": [
    {
     "output_type": "stream",
     "name": "stdout",
     "text": [
      "<class 'pandas.core.frame.DataFrame'>\nRangeIndex: 179456 entries, 0 to 179455\nData columns (total 8 columns):\n #   Column            Non-Null Count   Dtype  \n---  ------            --------------   -----  \n 0   blurb             179456 non-null  object \n 1   country           179456 non-null  object \n 2   goal              179456 non-null  float64\n 3   launched_at       179456 non-null  int64  \n 4   campaign_success  179456 non-null  int64  \n 5   category          179456 non-null  object \n 6   subcategory       179456 non-null  object \n 7   campaign_length   179456 non-null  float64\ndtypes: float64(2), int64(2), object(4)\nmemory usage: 11.0+ MB\n"
     ]
    }
   ],
   "source": [
    "kickstart.info()"
   ]
  },
  {
   "cell_type": "code",
   "execution_count": 68,
   "metadata": {},
   "outputs": [],
   "source": [
    "kickstart.to_csv(r'C:\\Users\\whats\\DS_Unit_3\\Kickstart\\clean_kickstart_data.csv', index = False)\n"
   ]
  }
 ],
 "metadata": {
  "language_info": {
   "codemirror_mode": {
    "name": "ipython",
    "version": 3
   },
   "file_extension": ".py",
   "mimetype": "text/x-python",
   "name": "python",
   "nbconvert_exporter": "python",
   "pygments_lexer": "ipython3",
   "version": "3.8.3-final"
  },
  "orig_nbformat": 2,
  "kernelspec": {
   "name": "Python 3.8.3 64-bit ('base': conda)",
   "display_name": "Python 3.8.3 64-bit ('base': conda)",
   "metadata": {
    "interpreter": {
     "hash": "1f69aa6a908dd77077108171b4c7abb4f45edb75f60153210175f5eb17d2a8fa"
    }
   }
  }
 },
 "nbformat": 4,
 "nbformat_minor": 2
}